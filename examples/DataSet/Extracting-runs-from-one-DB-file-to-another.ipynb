{
 "cells": [
  {
   "cell_type": "markdown",
   "metadata": {},
   "source": [
    "# Extracting runs from one DB file to another\n",
    "\n",
    "This notebook shows how to use the `extract_runs_into_db` function to extract runs from a database (DB) file (the source DB) into another DB file (the target DB). If the target DB does not exist, it will be created. The runs are **NOT** removed from the original DB file; they are copied over.\n"
   ]
  },
  {
   "cell_type": "markdown",
   "metadata": {},
   "source": [
    "## Setup\n",
    "\n",
    "Let us set up a DB file with some runs in it."
   ]
  },
  {
   "cell_type": "code",
   "execution_count": 1,
   "metadata": {
    "execution": {
     "iopub.execute_input": "2025-08-05T07:21:42.503595Z",
     "iopub.status.busy": "2025-08-05T07:21:42.503359Z",
     "iopub.status.idle": "2025-08-05T07:21:42.906168Z",
     "shell.execute_reply": "2025-08-05T07:21:42.905499Z"
    }
   },
   "outputs": [],
   "source": [
    "from pathlib import Path\n",
    "\n",
    "import numpy as np\n",
    "\n",
    "from qcodes.dataset import (\n",
    "    Measurement,\n",
    "    connect,\n",
    "    extract_runs_into_db,\n",
    "    load_experiment_by_name,\n",
    "    load_or_create_experiment,\n",
    ")\n",
    "from qcodes.instrument_drivers.mock_instruments import DummyInstrument\n",
    "from qcodes.station import Station"
   ]
  },
  {
   "cell_type": "code",
   "execution_count": 2,
   "metadata": {
    "execution": {
     "iopub.execute_input": "2025-08-05T07:21:42.908585Z",
     "iopub.status.busy": "2025-08-05T07:21:42.908314Z",
     "iopub.status.idle": "2025-08-05T07:21:42.911432Z",
     "shell.execute_reply": "2025-08-05T07:21:42.910830Z"
    }
   },
   "outputs": [],
   "source": [
    "source_path = Path.cwd().parent / \"example_output\" / \"extract_runs_notebook_source.db\"\n",
    "target_path = Path.cwd().parent / \"example_output\" / \"extract_runs_notebook_target.db\""
   ]
  },
  {
   "cell_type": "code",
   "execution_count": 3,
   "metadata": {
    "execution": {
     "iopub.execute_input": "2025-08-05T07:21:42.913177Z",
     "iopub.status.busy": "2025-08-05T07:21:42.912953Z",
     "iopub.status.idle": "2025-08-05T07:21:42.971826Z",
     "shell.execute_reply": "2025-08-05T07:21:42.971209Z"
    }
   },
   "outputs": [],
   "source": [
    "source_conn = connect(source_path)\n",
    "target_conn = connect(target_path)"
   ]
  },
  {
   "cell_type": "code",
   "execution_count": 4,
   "metadata": {
    "execution": {
     "iopub.execute_input": "2025-08-05T07:21:42.973685Z",
     "iopub.status.busy": "2025-08-05T07:21:42.973453Z",
     "iopub.status.idle": "2025-08-05T07:21:42.979891Z",
     "shell.execute_reply": "2025-08-05T07:21:42.979315Z"
    }
   },
   "outputs": [],
   "source": [
    "exp = load_or_create_experiment(\n",
    "    experiment_name=\"extract_runs_experiment\", sample_name=\"no_sample\", conn=source_conn\n",
    ")\n",
    "\n",
    "my_inst = DummyInstrument(\"my_inst\", gates=[\"voltage\", \"current\"])\n",
    "station = Station(my_inst)"
   ]
  },
  {
   "cell_type": "code",
   "execution_count": 5,
   "metadata": {
    "execution": {
     "iopub.execute_input": "2025-08-05T07:21:42.981702Z",
     "iopub.status.busy": "2025-08-05T07:21:42.981477Z",
     "iopub.status.idle": "2025-08-05T07:21:43.205417Z",
     "shell.execute_reply": "2025-08-05T07:21:43.204816Z"
    }
   },
   "outputs": [
    {
     "name": "stdout",
     "output_type": "stream",
     "text": [
      "Starting experimental run with id: 1. \n",
      "Starting experimental run with id: 2. \n",
      "Starting experimental run with id: 3. \n",
      "Starting experimental run with id: 4. \n",
      "Starting experimental run with id: 5. \n",
      "Starting experimental run with id: 6. \n",
      "Starting experimental run with id: 7. \n",
      "Starting experimental run with id: 8. \n",
      "Starting experimental run with id: 9. \n",
      "Starting experimental run with id: 10. \n"
     ]
    }
   ],
   "source": [
    "meas = Measurement(exp=exp)\n",
    "meas.register_parameter(my_inst.voltage)\n",
    "meas.register_parameter(my_inst.current, setpoints=(my_inst.voltage,))\n",
    "\n",
    "# Add 10 runs with gradually more and more data\n",
    "\n",
    "for run_id in range(1, 11):\n",
    "    with meas.run() as datasaver:\n",
    "        for step, noise in enumerate(np.random.randn(run_id)):\n",
    "            datasaver.add_result((my_inst.voltage, step), (my_inst.current, noise))"
   ]
  },
  {
   "cell_type": "markdown",
   "metadata": {},
   "source": [
    "## Extraction\n",
    "\n",
    "Now let us extract runs 3 and 7 into our desired target DB file. All runs must come from the same experiment. To extract runs from different experiments, one may call the function several times.\n",
    "\n",
    "The function will look in the target DB to see if an experiment with matching attributes already exists. If not, such an experiment is created."
   ]
  },
  {
   "cell_type": "code",
   "execution_count": 6,
   "metadata": {
    "execution": {
     "iopub.execute_input": "2025-08-05T07:21:43.207501Z",
     "iopub.status.busy": "2025-08-05T07:21:43.207234Z",
     "iopub.status.idle": "2025-08-05T07:21:43.218257Z",
     "shell.execute_reply": "2025-08-05T07:21:43.217671Z"
    }
   },
   "outputs": [],
   "source": [
    "extract_runs_into_db(source_path, target_path, 3, 7)"
   ]
  },
  {
   "cell_type": "code",
   "execution_count": 7,
   "metadata": {
    "execution": {
     "iopub.execute_input": "2025-08-05T07:21:43.219950Z",
     "iopub.status.busy": "2025-08-05T07:21:43.219775Z",
     "iopub.status.idle": "2025-08-05T07:21:43.222759Z",
     "shell.execute_reply": "2025-08-05T07:21:43.222146Z"
    }
   },
   "outputs": [],
   "source": [
    "target_exp = load_experiment_by_name(name=\"extract_runs_experiment\", conn=target_conn)"
   ]
  },
  {
   "cell_type": "code",
   "execution_count": 8,
   "metadata": {
    "execution": {
     "iopub.execute_input": "2025-08-05T07:21:43.224449Z",
     "iopub.status.busy": "2025-08-05T07:21:43.224276Z",
     "iopub.status.idle": "2025-08-05T07:21:43.232121Z",
     "shell.execute_reply": "2025-08-05T07:21:43.231505Z"
    }
   },
   "outputs": [
    {
     "data": {
      "text/plain": [
       "extract_runs_experiment#no_sample#1@/home/runner/work/Qcodes/Qcodes/docs/examples/example_output/extract_runs_notebook_target.db\n",
       "--------------------------------------------------------------------------------------------------------------------------------\n",
       "1-results-1-my_inst_voltage,my_inst_current-3\n",
       "2-results-2-my_inst_voltage,my_inst_current-7"
      ]
     },
     "execution_count": 8,
     "metadata": {},
     "output_type": "execute_result"
    }
   ],
   "source": [
    "target_exp"
   ]
  },
  {
   "cell_type": "markdown",
   "metadata": {},
   "source": [
    "The last number printed in each line is the number of data points. As expected, we get 3 and 7.\n",
    "\n",
    "Note that the runs will have different `run_id`s in the new database. Their GUIDs are, however, the same (as they must be)."
   ]
  },
  {
   "cell_type": "code",
   "execution_count": 9,
   "metadata": {
    "execution": {
     "iopub.execute_input": "2025-08-05T07:21:43.234104Z",
     "iopub.status.busy": "2025-08-05T07:21:43.233938Z",
     "iopub.status.idle": "2025-08-05T07:21:43.238525Z",
     "shell.execute_reply": "2025-08-05T07:21:43.237948Z"
    },
    "scrolled": true
   },
   "outputs": [
    {
     "data": {
      "text/plain": [
       "'c01ff83c-0000-0000-0000-0198791b837d'"
      ]
     },
     "execution_count": 9,
     "metadata": {},
     "output_type": "execute_result"
    }
   ],
   "source": [
    "exp.data_set(3).guid"
   ]
  },
  {
   "cell_type": "code",
   "execution_count": 10,
   "metadata": {
    "execution": {
     "iopub.execute_input": "2025-08-05T07:21:43.240357Z",
     "iopub.status.busy": "2025-08-05T07:21:43.240193Z",
     "iopub.status.idle": "2025-08-05T07:21:43.244607Z",
     "shell.execute_reply": "2025-08-05T07:21:43.243990Z"
    }
   },
   "outputs": [
    {
     "data": {
      "text/plain": [
       "'c01ff83c-0000-0000-0000-0198791b837d'"
      ]
     },
     "execution_count": 10,
     "metadata": {},
     "output_type": "execute_result"
    }
   ],
   "source": [
    "target_exp.data_set(1).guid"
   ]
  },
  {
   "cell_type": "markdown",
   "metadata": {},
   "source": [
    "Furthermore, note that the original `run_id` preserved as `captured_run_id`. We will demonstrate below how to look up data via the `captured_run_id`."
   ]
  },
  {
   "cell_type": "code",
   "execution_count": 11,
   "metadata": {
    "execution": {
     "iopub.execute_input": "2025-08-05T07:21:43.246317Z",
     "iopub.status.busy": "2025-08-05T07:21:43.246162Z",
     "iopub.status.idle": "2025-08-05T07:21:43.251001Z",
     "shell.execute_reply": "2025-08-05T07:21:43.250387Z"
    }
   },
   "outputs": [
    {
     "data": {
      "text/plain": [
       "3"
      ]
     },
     "execution_count": 11,
     "metadata": {},
     "output_type": "execute_result"
    }
   ],
   "source": [
    "target_exp.data_set(1).captured_run_id"
   ]
  },
  {
   "cell_type": "markdown",
   "metadata": {},
   "source": [
    "## Merging data from 2 databases"
   ]
  },
  {
   "cell_type": "markdown",
   "metadata": {},
   "source": [
    "There are occasions where it is convenient to combine data from several databases."
   ]
  },
  {
   "cell_type": "markdown",
   "metadata": {},
   "source": [
    "Let's first demonstrate this by creating some new experiments in another db file."
   ]
  },
  {
   "cell_type": "code",
   "execution_count": 12,
   "metadata": {
    "execution": {
     "iopub.execute_input": "2025-08-05T07:21:43.252923Z",
     "iopub.status.busy": "2025-08-05T07:21:43.252540Z",
     "iopub.status.idle": "2025-08-05T07:21:43.255541Z",
     "shell.execute_reply": "2025-08-05T07:21:43.254992Z"
    }
   },
   "outputs": [],
   "source": [
    "extra_source_path = (\n",
    "    Path.cwd().parent / \"example_output\" / \"extract_runs_notebook_source_aux.db\"\n",
    ")"
   ]
  },
  {
   "cell_type": "code",
   "execution_count": 13,
   "metadata": {
    "execution": {
     "iopub.execute_input": "2025-08-05T07:21:43.257216Z",
     "iopub.status.busy": "2025-08-05T07:21:43.257000Z",
     "iopub.status.idle": "2025-08-05T07:21:43.291330Z",
     "shell.execute_reply": "2025-08-05T07:21:43.290776Z"
    }
   },
   "outputs": [],
   "source": [
    "source_extra_conn = connect(extra_source_path)"
   ]
  },
  {
   "cell_type": "code",
   "execution_count": 14,
   "metadata": {
    "execution": {
     "iopub.execute_input": "2025-08-05T07:21:43.293098Z",
     "iopub.status.busy": "2025-08-05T07:21:43.292873Z",
     "iopub.status.idle": "2025-08-05T07:21:43.297546Z",
     "shell.execute_reply": "2025-08-05T07:21:43.297002Z"
    }
   },
   "outputs": [],
   "source": [
    "exp = load_or_create_experiment(\n",
    "    experiment_name=\"extract_runs_experiment_aux\",\n",
    "    sample_name=\"no_sample\",\n",
    "    conn=source_extra_conn,\n",
    ")"
   ]
  },
  {
   "cell_type": "code",
   "execution_count": 15,
   "metadata": {
    "execution": {
     "iopub.execute_input": "2025-08-05T07:21:43.299282Z",
     "iopub.status.busy": "2025-08-05T07:21:43.299076Z",
     "iopub.status.idle": "2025-08-05T07:21:43.495607Z",
     "shell.execute_reply": "2025-08-05T07:21:43.495053Z"
    }
   },
   "outputs": [
    {
     "name": "stdout",
     "output_type": "stream",
     "text": [
      "Starting experimental run with id: 1. \n",
      "Starting experimental run with id: 2. \n",
      "Starting experimental run with id: 3. \n",
      "Starting experimental run with id: 4. \n",
      "Starting experimental run with id: 5. \n",
      "Starting experimental run with id: 6. \n",
      "Starting experimental run with id: 7. \n",
      "Starting experimental run with id: 8. \n",
      "Starting experimental run with id: 9. \n",
      "Starting experimental run with id: 10. \n"
     ]
    }
   ],
   "source": [
    "meas = Measurement(exp=exp)\n",
    "meas.register_parameter(my_inst.current)\n",
    "meas.register_parameter(my_inst.voltage, setpoints=(my_inst.current,))\n",
    "\n",
    "# Add 10 runs with gradually more and more data\n",
    "\n",
    "for run_id in range(1, 11):\n",
    "    with meas.run() as datasaver:\n",
    "        for step, noise in enumerate(np.random.randn(run_id)):\n",
    "            datasaver.add_result((my_inst.current, step), (my_inst.voltage, noise))"
   ]
  },
  {
   "cell_type": "code",
   "execution_count": 16,
   "metadata": {
    "execution": {
     "iopub.execute_input": "2025-08-05T07:21:43.497450Z",
     "iopub.status.busy": "2025-08-05T07:21:43.497234Z",
     "iopub.status.idle": "2025-08-05T07:21:43.502422Z",
     "shell.execute_reply": "2025-08-05T07:21:43.501868Z"
    }
   },
   "outputs": [
    {
     "data": {
      "text/plain": [
       "'d763747f-0000-0000-0000-0198791b84ad'"
      ]
     },
     "execution_count": 16,
     "metadata": {},
     "output_type": "execute_result"
    }
   ],
   "source": [
    "exp.data_set(3).guid"
   ]
  },
  {
   "cell_type": "code",
   "execution_count": 17,
   "metadata": {
    "execution": {
     "iopub.execute_input": "2025-08-05T07:21:43.504030Z",
     "iopub.status.busy": "2025-08-05T07:21:43.503878Z",
     "iopub.status.idle": "2025-08-05T07:21:43.515573Z",
     "shell.execute_reply": "2025-08-05T07:21:43.515011Z"
    }
   },
   "outputs": [],
   "source": [
    "extract_runs_into_db(extra_source_path, target_path, 1, 3)"
   ]
  },
  {
   "cell_type": "code",
   "execution_count": 18,
   "metadata": {
    "execution": {
     "iopub.execute_input": "2025-08-05T07:21:43.517271Z",
     "iopub.status.busy": "2025-08-05T07:21:43.517118Z",
     "iopub.status.idle": "2025-08-05T07:21:43.520319Z",
     "shell.execute_reply": "2025-08-05T07:21:43.519710Z"
    }
   },
   "outputs": [],
   "source": [
    "target_exp_aux = load_experiment_by_name(\n",
    "    name=\"extract_runs_experiment_aux\", conn=target_conn\n",
    ")"
   ]
  },
  {
   "cell_type": "markdown",
   "metadata": {},
   "source": [
    "The GUID should be preserved."
   ]
  },
  {
   "cell_type": "code",
   "execution_count": 19,
   "metadata": {
    "execution": {
     "iopub.execute_input": "2025-08-05T07:21:43.521922Z",
     "iopub.status.busy": "2025-08-05T07:21:43.521734Z",
     "iopub.status.idle": "2025-08-05T07:21:43.526334Z",
     "shell.execute_reply": "2025-08-05T07:21:43.525782Z"
    }
   },
   "outputs": [
    {
     "data": {
      "text/plain": [
       "'d763747f-0000-0000-0000-0198791b84ad'"
      ]
     },
     "execution_count": 19,
     "metadata": {},
     "output_type": "execute_result"
    }
   ],
   "source": [
    "target_exp_aux.data_set(2).guid"
   ]
  },
  {
   "cell_type": "markdown",
   "metadata": {},
   "source": [
    "And the original `run_id` is preserved as `captured_run_id` "
   ]
  },
  {
   "cell_type": "code",
   "execution_count": 20,
   "metadata": {
    "execution": {
     "iopub.execute_input": "2025-08-05T07:21:43.527926Z",
     "iopub.status.busy": "2025-08-05T07:21:43.527770Z",
     "iopub.status.idle": "2025-08-05T07:21:43.532346Z",
     "shell.execute_reply": "2025-08-05T07:21:43.531731Z"
    }
   },
   "outputs": [
    {
     "data": {
      "text/plain": [
       "3"
      ]
     },
     "execution_count": 20,
     "metadata": {},
     "output_type": "execute_result"
    }
   ],
   "source": [
    "target_exp_aux.data_set(2).captured_run_id"
   ]
  },
  {
   "cell_type": "markdown",
   "metadata": {},
   "source": [
    "## Uniquely identifying and loading runs\n",
    "\n",
    "As runs move from one database to the other, uniquely identifying a run becomes non-trivial."
   ]
  },
  {
   "cell_type": "markdown",
   "metadata": {},
   "source": [
    "Note how we now have 2 runs in the same DB sharing the same `captured_run_id`. This means that `captured_run_id` is **not** a unique key. We can demonstrate that `captured_run_id` is not unique by looking up the `GUID`s that match this `captured_run_id`."
   ]
  },
  {
   "cell_type": "code",
   "execution_count": 21,
   "metadata": {
    "execution": {
     "iopub.execute_input": "2025-08-05T07:21:43.534266Z",
     "iopub.status.busy": "2025-08-05T07:21:43.534116Z",
     "iopub.status.idle": "2025-08-05T07:21:43.536797Z",
     "shell.execute_reply": "2025-08-05T07:21:43.536204Z"
    }
   },
   "outputs": [],
   "source": [
    "from qcodes.dataset import get_guids_by_run_spec, load_by_guid, load_by_run_spec"
   ]
  },
  {
   "cell_type": "code",
   "execution_count": 22,
   "metadata": {
    "execution": {
     "iopub.execute_input": "2025-08-05T07:21:43.538439Z",
     "iopub.status.busy": "2025-08-05T07:21:43.538285Z",
     "iopub.status.idle": "2025-08-05T07:21:43.542355Z",
     "shell.execute_reply": "2025-08-05T07:21:43.541814Z"
    }
   },
   "outputs": [
    {
     "data": {
      "text/plain": [
       "['c01ff83c-0000-0000-0000-0198791b837d',\n",
       " 'd763747f-0000-0000-0000-0198791b84ad']"
      ]
     },
     "execution_count": 22,
     "metadata": {},
     "output_type": "execute_result"
    }
   ],
   "source": [
    "guids = get_guids_by_run_spec(conn=target_conn, captured_run_id=3)\n",
    "guids"
   ]
  },
  {
   "cell_type": "code",
   "execution_count": 23,
   "metadata": {
    "execution": {
     "iopub.execute_input": "2025-08-05T07:21:43.544087Z",
     "iopub.status.busy": "2025-08-05T07:21:43.543939Z",
     "iopub.status.idle": "2025-08-05T07:21:43.548782Z",
     "shell.execute_reply": "2025-08-05T07:21:43.548196Z"
    }
   },
   "outputs": [
    {
     "data": {
      "text/plain": [
       "results #1@/home/runner/work/Qcodes/Qcodes/docs/examples/example_output/extract_runs_notebook_target.db\n",
       "-------------------------------------------------------------------------------------------------------\n",
       "my_inst_voltage - numeric\n",
       "my_inst_current - numeric"
      ]
     },
     "execution_count": 23,
     "metadata": {},
     "output_type": "execute_result"
    }
   ],
   "source": [
    "load_by_guid(guids[0], conn=target_conn)"
   ]
  },
  {
   "cell_type": "code",
   "execution_count": 24,
   "metadata": {
    "execution": {
     "iopub.execute_input": "2025-08-05T07:21:43.550497Z",
     "iopub.status.busy": "2025-08-05T07:21:43.550277Z",
     "iopub.status.idle": "2025-08-05T07:21:43.555591Z",
     "shell.execute_reply": "2025-08-05T07:21:43.555035Z"
    }
   },
   "outputs": [
    {
     "data": {
      "text/plain": [
       "results #4@/home/runner/work/Qcodes/Qcodes/docs/examples/example_output/extract_runs_notebook_target.db\n",
       "-------------------------------------------------------------------------------------------------------\n",
       "my_inst_current - numeric\n",
       "my_inst_voltage - numeric"
      ]
     },
     "execution_count": 24,
     "metadata": {},
     "output_type": "execute_result"
    }
   ],
   "source": [
    "load_by_guid(guids[1], conn=target_conn)"
   ]
  },
  {
   "cell_type": "markdown",
   "metadata": {},
   "source": [
    "To enable loading of runs that may share the same `captured_run_id`, the function `load_by_run_data` is supplied.\n",
    "This function takes one or more optional sets of metadata. If more than one run matching this information is found the metadata of the matching runs is printed and an error is raised. It is now possible to suply more information to the function to uniquely identify a specific run."
   ]
  },
  {
   "cell_type": "code",
   "execution_count": 25,
   "metadata": {
    "execution": {
     "iopub.execute_input": "2025-08-05T07:21:43.557388Z",
     "iopub.status.busy": "2025-08-05T07:21:43.557175Z",
     "iopub.status.idle": "2025-08-05T07:21:43.567686Z",
     "shell.execute_reply": "2025-08-05T07:21:43.567120Z"
    }
   },
   "outputs": [
    {
     "name": "stdout",
     "output_type": "stream",
     "text": [
      "  captured_run_id    captured_counter  experiment_name              sample_name      location    work_station\n",
      "-----------------  ------------------  ---------------------------  -------------  ----------  --------------\n",
      "                3                   3  extract_runs_experiment      no_sample               0               0\n",
      "                3                   3  extract_runs_experiment_aux  no_sample               0               0\n",
      "Caught a NameError\n"
     ]
    }
   ],
   "source": [
    "try:\n",
    "    load_by_run_spec(captured_run_id=3, conn=target_conn)\n",
    "except NameError:\n",
    "    print(\"Caught a NameError\")"
   ]
  },
  {
   "cell_type": "markdown",
   "metadata": {},
   "source": [
    "To single out one of these two runs, we can thus specify the `experiment_name`:"
   ]
  },
  {
   "cell_type": "code",
   "execution_count": 26,
   "metadata": {
    "execution": {
     "iopub.execute_input": "2025-08-05T07:21:43.569373Z",
     "iopub.status.busy": "2025-08-05T07:21:43.569204Z",
     "iopub.status.idle": "2025-08-05T07:21:43.575034Z",
     "shell.execute_reply": "2025-08-05T07:21:43.574481Z"
    }
   },
   "outputs": [
    {
     "data": {
      "text/plain": [
       "results #4@/home/runner/work/Qcodes/Qcodes/docs/examples/example_output/extract_runs_notebook_target.db\n",
       "-------------------------------------------------------------------------------------------------------\n",
       "my_inst_current - numeric\n",
       "my_inst_voltage - numeric"
      ]
     },
     "execution_count": 26,
     "metadata": {},
     "output_type": "execute_result"
    }
   ],
   "source": [
    "load_by_run_spec(\n",
    "    captured_run_id=3, experiment_name=\"extract_runs_experiment_aux\", conn=target_conn\n",
    ")"
   ]
  },
  {
   "cell_type": "markdown",
   "metadata": {},
   "source": [
    "## Related functionality: export_datasets_and_create_metadata_db\n",
    "\n",
    "QCoDeS also provides another function related to database operations: :func:`qcodes.dataset.export_datasets_and_create_metadata_db`. This function:\n",
    "\n",
    "- Exports all datasets from a source database to NetCDF files\n",
    "- Creates a new metadata-only database (without raw data)\n",
    "- Provides space-efficient storage by offloading data to NetCDF files\n",
    "\n",
    "This is useful when you want to reduce database file sizes while maintaining all metadata in a database format. See the API documentation for more details on usage and parameters."
   ]
  }
 ],
 "metadata": {
  "kernelspec": {
   "display_name": "Python 3 (ipykernel)",
   "language": "python",
   "name": "python3"
  },
  "language_info": {
   "codemirror_mode": {
    "name": "ipython",
    "version": 3
   },
   "file_extension": ".py",
   "mimetype": "text/x-python",
   "name": "python",
   "nbconvert_exporter": "python",
   "pygments_lexer": "ipython3",
   "version": "3.11.13"
  },
  "widgets": {
   "application/vnd.jupyter.widget-state+json": {
    "state": {},
    "version_major": 2,
    "version_minor": 0
   }
  }
 },
 "nbformat": 4,
 "nbformat_minor": 4
}
