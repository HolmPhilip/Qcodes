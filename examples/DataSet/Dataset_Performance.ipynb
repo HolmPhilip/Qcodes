{
 "cells": [
  {
   "cell_type": "markdown",
   "metadata": {},
   "source": [
    "# DataSet Performance\n",
    "\n",
    "This notebook shows the trade-off between inserting data into a database row-by-row and as binary blobs. Inserting the data row-by-row means that we have direct access to all the data and may perform queries directly on the values of the data. On the other hand, as we shall see, this is much slower than inserting the data directly as binary blobs."
   ]
  },
  {
   "cell_type": "markdown",
   "metadata": {},
   "source": [
    "First, we choose a new location for the database to ensure that we don't add a bunch of benchmarking data to the default one."
   ]
  },
  {
   "cell_type": "code",
   "execution_count": 1,
   "metadata": {
    "execution": {
     "iopub.execute_input": "2025-08-05T07:20:36.290403Z",
     "iopub.status.busy": "2025-08-05T07:20:36.290232Z",
     "iopub.status.idle": "2025-08-05T07:20:36.717734Z",
     "shell.execute_reply": "2025-08-05T07:20:36.717072Z"
    }
   },
   "outputs": [],
   "source": [
    "from pathlib import Path\n",
    "\n",
    "import qcodes as qc\n",
    "\n",
    "qc.config[\"core\"][\"db_location\"] = str(\n",
    "    Path.cwd().parent / \"example_output\" / \"testing.db\"\n",
    ")"
   ]
  },
  {
   "cell_type": "code",
   "execution_count": 2,
   "metadata": {
    "execution": {
     "iopub.execute_input": "2025-08-05T07:20:36.720321Z",
     "iopub.status.busy": "2025-08-05T07:20:36.720052Z",
     "iopub.status.idle": "2025-08-05T07:20:37.039417Z",
     "shell.execute_reply": "2025-08-05T07:20:37.038776Z"
    }
   },
   "outputs": [],
   "source": [
    "%matplotlib inline\n",
    "import time\n",
    "from pathlib import Path\n",
    "\n",
    "import matplotlib.pyplot as plt\n",
    "import numpy as np\n",
    "\n",
    "import qcodes as qc\n",
    "from qcodes.dataset import (\n",
    "    Measurement,\n",
    "    initialise_or_create_database_at,\n",
    "    load_or_create_experiment,\n",
    ")\n",
    "from qcodes.parameters import ManualParameter"
   ]
  },
  {
   "cell_type": "code",
   "execution_count": 3,
   "metadata": {
    "execution": {
     "iopub.execute_input": "2025-08-05T07:20:37.041951Z",
     "iopub.status.busy": "2025-08-05T07:20:37.041623Z",
     "iopub.status.idle": "2025-08-05T07:20:37.079450Z",
     "shell.execute_reply": "2025-08-05T07:20:37.078794Z"
    }
   },
   "outputs": [],
   "source": [
    "initialise_or_create_database_at(\n",
    "    Path.cwd().parent / \"example_output\" / \"dataset_performance.db\"\n",
    ")\n",
    "exp = load_or_create_experiment(experiment_name=\"tutorial_exp\", sample_name=\"no sample\")"
   ]
  },
  {
   "cell_type": "markdown",
   "metadata": {},
   "source": [
    "Here, we define a simple function to benchmark the time it takes to insert n points with either numeric or array data type.\n",
    "We will compare both the time used to call ``add_result`` and the time used for the full measurement."
   ]
  },
  {
   "cell_type": "code",
   "execution_count": 4,
   "metadata": {
    "execution": {
     "iopub.execute_input": "2025-08-05T07:20:37.081624Z",
     "iopub.status.busy": "2025-08-05T07:20:37.081375Z",
     "iopub.status.idle": "2025-08-05T07:20:37.089784Z",
     "shell.execute_reply": "2025-08-05T07:20:37.089200Z"
    }
   },
   "outputs": [],
   "source": [
    "def insert_data(paramtype, npoints, nreps=1):\n",
    "    meas = Measurement(exp=exp)\n",
    "\n",
    "    x1 = ManualParameter(\"x1\")\n",
    "    x2 = ManualParameter(\"x2\")\n",
    "    x3 = ManualParameter(\"x3\")\n",
    "    y1 = ManualParameter(\"y1\")\n",
    "    y2 = ManualParameter(\"y2\")\n",
    "\n",
    "    meas.register_parameter(x1, paramtype=paramtype)\n",
    "    meas.register_parameter(x2, paramtype=paramtype)\n",
    "    meas.register_parameter(x3, paramtype=paramtype)\n",
    "    meas.register_parameter(y1, setpoints=[x1, x2, x3], paramtype=paramtype)\n",
    "    meas.register_parameter(y2, setpoints=[x1, x2, x3], paramtype=paramtype)\n",
    "    start = time.perf_counter()\n",
    "    with meas.run() as datasaver:\n",
    "        start_adding = time.perf_counter()\n",
    "        for i in range(nreps):\n",
    "            datasaver.add_result(\n",
    "                (x1, np.random.rand(npoints)),\n",
    "                (x2, np.random.rand(npoints)),\n",
    "                (x3, np.random.rand(npoints)),\n",
    "                (y1, np.random.rand(npoints)),\n",
    "                (y2, np.random.rand(npoints)),\n",
    "            )\n",
    "        stop_adding = time.perf_counter()\n",
    "        run_id = datasaver.run_id\n",
    "    stop = time.perf_counter()\n",
    "    tot_time = stop - start\n",
    "    add_time = stop_adding - start_adding\n",
    "    return tot_time, add_time, run_id"
   ]
  },
  {
   "cell_type": "markdown",
   "metadata": {},
   "source": [
    "## Comparison between numeric/array data and binary blob"
   ]
  },
  {
   "cell_type": "markdown",
   "metadata": {},
   "source": [
    "### Case1: Short experiment time"
   ]
  },
  {
   "cell_type": "code",
   "execution_count": 5,
   "metadata": {
    "execution": {
     "iopub.execute_input": "2025-08-05T07:20:37.091644Z",
     "iopub.status.busy": "2025-08-05T07:20:37.091406Z",
     "iopub.status.idle": "2025-08-05T07:20:37.551572Z",
     "shell.execute_reply": "2025-08-05T07:20:37.550889Z"
    }
   },
   "outputs": [
    {
     "name": "stdout",
     "output_type": "stream",
     "text": [
      "Starting experimental run with id: 1. \n",
      "Starting experimental run with id: 2. \n",
      "Starting experimental run with id: 3. \n",
      "Starting experimental run with id: 4. \n",
      "Starting experimental run with id: 5. \n",
      "Starting experimental run with id: 6. \n",
      "Starting experimental run with id: 7. \n",
      "Starting experimental run with id: 8. \n",
      "Starting experimental run with id: 9. \n"
     ]
    },
    {
     "name": "stdout",
     "output_type": "stream",
     "text": [
      "Starting experimental run with id: 10. \n",
      "Starting experimental run with id: 11. \n",
      "Starting experimental run with id: 12. \n",
      "Starting experimental run with id: 13. \n"
     ]
    },
    {
     "name": "stdout",
     "output_type": "stream",
     "text": [
      "Starting experimental run with id: 14. \n"
     ]
    }
   ],
   "source": [
    "sizes = [1, 500, 1000, 2000, 3000, 4000, 5000]\n",
    "t_numeric = []\n",
    "t_numeric_add = []\n",
    "t_array = []\n",
    "t_array_add = []\n",
    "for size in sizes:\n",
    "    tn, tna, run_id_n = insert_data(\"numeric\", size)\n",
    "    t_numeric.append(tn)\n",
    "    t_numeric_add.append(tna)\n",
    "\n",
    "    ta, taa, run_id_a = insert_data(\"array\", size)\n",
    "    t_array.append(ta)\n",
    "    t_array_add.append(taa)"
   ]
  },
  {
   "cell_type": "code",
   "execution_count": 6,
   "metadata": {
    "execution": {
     "iopub.execute_input": "2025-08-05T07:20:37.553599Z",
     "iopub.status.busy": "2025-08-05T07:20:37.553269Z",
     "iopub.status.idle": "2025-08-05T07:20:37.714916Z",
     "shell.execute_reply": "2025-08-05T07:20:37.714233Z"
    }
   },
   "outputs": [
    {
     "data": {
      "image/png": "[encoded data removed]",
      "text/plain": [
       "<Figure size 640x480 with 1 Axes>"
      ]
     },
     "metadata": {},
     "output_type": "display_data"
    }
   ],
   "source": [
    "fig, ax = plt.subplots(1, 1)\n",
    "ax.plot(sizes, t_numeric, \"o-\", label=\"Inserting row-by-row\")\n",
    "ax.plot(sizes, t_numeric_add, \"o-\", label=\"Inserting row-by-row: add_result only\")\n",
    "ax.plot(sizes, t_array, \"d-\", label=\"Inserting as binary blob\")\n",
    "ax.plot(sizes, t_array_add, \"d-\", label=\"Inserting as binary blob: add_result only\")\n",
    "ax.legend()\n",
    "ax.set_xlabel(\"Array length\")\n",
    "ax.set_ylabel(\"Time (s)\")\n",
    "fig.tight_layout()"
   ]
  },
  {
   "cell_type": "markdown",
   "metadata": {},
   "source": [
    "As shown in the latter figure, the time to setup and and close the experiment is approximately 0.4 sec. In case of small array sizes, the difference between inserting values of data as arrays and inserting them row-by-row is relatively unimportant. At larger array sizes, i.e. above 10000 points, the cost of writing data as individual datapoints starts to become important.\n"
   ]
  },
  {
   "cell_type": "markdown",
   "metadata": {},
   "source": [
    "### Case2: Long experiment time "
   ]
  },
  {
   "cell_type": "code",
   "execution_count": 7,
   "metadata": {
    "execution": {
     "iopub.execute_input": "2025-08-05T07:20:37.716900Z",
     "iopub.status.busy": "2025-08-05T07:20:37.716693Z",
     "iopub.status.idle": "2025-08-05T07:20:57.220161Z",
     "shell.execute_reply": "2025-08-05T07:20:57.219465Z"
    }
   },
   "outputs": [
    {
     "name": "stdout",
     "output_type": "stream",
     "text": [
      "Starting experimental run with id: 15. \n"
     ]
    },
    {
     "name": "stdout",
     "output_type": "stream",
     "text": [
      "Starting experimental run with id: 16. \n"
     ]
    },
    {
     "name": "stdout",
     "output_type": "stream",
     "text": [
      "Starting experimental run with id: 17. \n"
     ]
    },
    {
     "name": "stdout",
     "output_type": "stream",
     "text": [
      "Starting experimental run with id: 18. \n",
      "Starting experimental run with id: 19. \n"
     ]
    },
    {
     "name": "stdout",
     "output_type": "stream",
     "text": [
      "Starting experimental run with id: 20. \n",
      "Starting experimental run with id: 21. \n"
     ]
    },
    {
     "name": "stdout",
     "output_type": "stream",
     "text": [
      "Starting experimental run with id: 22. \n",
      "Starting experimental run with id: 23. \n"
     ]
    },
    {
     "name": "stdout",
     "output_type": "stream",
     "text": [
      "Starting experimental run with id: 24. \n"
     ]
    },
    {
     "name": "stdout",
     "output_type": "stream",
     "text": [
      "Starting experimental run with id: 25. \n"
     ]
    },
    {
     "name": "stdout",
     "output_type": "stream",
     "text": [
      "Starting experimental run with id: 26. \n"
     ]
    },
    {
     "name": "stdout",
     "output_type": "stream",
     "text": [
      "Starting experimental run with id: 27. \n"
     ]
    },
    {
     "name": "stdout",
     "output_type": "stream",
     "text": [
      "Starting experimental run with id: 28. \n"
     ]
    }
   ],
   "source": [
    "sizes = [1, 500, 1000, 2000, 3000, 4000, 5000]\n",
    "nreps = 100\n",
    "t_numeric = []\n",
    "t_numeric_add = []\n",
    "t_numeric_run_ids = []\n",
    "t_array = []\n",
    "t_array_add = []\n",
    "t_array_run_ids = []\n",
    "for size in sizes:\n",
    "    tn, tna, run_id_n = insert_data(\"numeric\", size, nreps=nreps)\n",
    "    t_numeric.append(tn)\n",
    "    t_numeric_add.append(tna)\n",
    "    t_numeric_run_ids.append(run_id_n)\n",
    "\n",
    "    ta, taa, run_id_a = insert_data(\"array\", size, nreps=nreps)\n",
    "    t_array.append(ta)\n",
    "    t_array_add.append(taa)\n",
    "    t_array_run_ids.append(run_id_a)"
   ]
  },
  {
   "cell_type": "code",
   "execution_count": 8,
   "metadata": {
    "execution": {
     "iopub.execute_input": "2025-08-05T07:20:57.222496Z",
     "iopub.status.busy": "2025-08-05T07:20:57.222310Z",
     "iopub.status.idle": "2025-08-05T07:20:57.356703Z",
     "shell.execute_reply": "2025-08-05T07:20:57.356083Z"
    },
    "scrolled": true
   },
   "outputs": [
    {
     "data": {
      "image/png": "[encoded data removed]",
      "text/plain": [
       "<Figure size 640x480 with 1 Axes>"
      ]
     },
     "metadata": {},
     "output_type": "display_data"
    }
   ],
   "source": [
    "fig, ax = plt.subplots(1, 1)\n",
    "ax.plot(sizes, t_numeric, \"o-\", label=\"Inserting row-by-row\")\n",
    "ax.plot(sizes, t_numeric_add, \"o-\", label=\"Inserting row-by-row: add_result only\")\n",
    "ax.plot(sizes, t_array, \"d-\", label=\"Inserting as binary blob\")\n",
    "ax.plot(sizes, t_array_add, \"d-\", label=\"Inserting as binary blob: add_result only\")\n",
    "ax.legend()\n",
    "ax.set_xlabel(\"Array length\")\n",
    "ax.set_ylabel(\"Time (s)\")\n",
    "fig.tight_layout()"
   ]
  },
  {
   "cell_type": "markdown",
   "metadata": {},
   "source": [
    "However, as we increase the length of the experiment, as seen here by repeating the insertion 100 times, we see a big difference between inserting values of the data row-by-row and inserting it as a binary blob."
   ]
  },
  {
   "cell_type": "markdown",
   "metadata": {},
   "source": [
    "## Loading the data "
   ]
  },
  {
   "cell_type": "code",
   "execution_count": 9,
   "metadata": {
    "execution": {
     "iopub.execute_input": "2025-08-05T07:20:57.358819Z",
     "iopub.status.busy": "2025-08-05T07:20:57.358615Z",
     "iopub.status.idle": "2025-08-05T07:20:57.361408Z",
     "shell.execute_reply": "2025-08-05T07:20:57.360811Z"
    }
   },
   "outputs": [],
   "source": [
    "from qcodes.dataset import load_by_id"
   ]
  },
  {
   "cell_type": "markdown",
   "metadata": {},
   "source": [
    "As usual you can load the data by using the ``load_by_id`` function but you will notice that the different storage methods\n",
    "are reflected in shape of the data as it is retrieved. "
   ]
  },
  {
   "cell_type": "code",
   "execution_count": 10,
   "metadata": {
    "execution": {
     "iopub.execute_input": "2025-08-05T07:20:57.363258Z",
     "iopub.status.busy": "2025-08-05T07:20:57.363096Z",
     "iopub.status.idle": "2025-08-05T07:20:57.365806Z",
     "shell.execute_reply": "2025-08-05T07:20:57.365192Z"
    }
   },
   "outputs": [],
   "source": [
    "run_id_n = t_numeric_run_ids[0]\n",
    "run_id_a = t_array_run_ids[0]"
   ]
  },
  {
   "cell_type": "code",
   "execution_count": 11,
   "metadata": {
    "execution": {
     "iopub.execute_input": "2025-08-05T07:20:57.367607Z",
     "iopub.status.busy": "2025-08-05T07:20:57.367440Z",
     "iopub.status.idle": "2025-08-05T07:20:57.375985Z",
     "shell.execute_reply": "2025-08-05T07:20:57.375394Z"
    },
    "scrolled": true
   },
   "outputs": [
    {
     "data": {
      "text/plain": [
       "{'x1': {'x1': array([0.69138102, 0.69138102, 0.5659282 , 0.5659282 , 0.37604079,\n",
       "         0.37604079, 0.70840657, 0.70840657, 0.92157708, 0.92157708,\n",
       "         0.98780598, 0.98780598, 0.80325369, 0.80325369, 0.75005576,\n",
       "         0.75005576, 0.47261513, 0.47261513, 0.22084432, 0.22084432,\n",
       "         0.65150583, 0.65150583, 0.12542456, 0.12542456, 0.23137451,\n",
       "         0.23137451, 0.73578842, 0.73578842, 0.9510178 , 0.9510178 ,\n",
       "         0.81114707, 0.81114707, 0.78981187, 0.78981187, 0.42632278,\n",
       "         0.42632278, 0.31689868, 0.31689868, 0.88310983, 0.88310983,\n",
       "         0.18114266, 0.18114266, 0.2431645 , 0.2431645 , 0.96182959,\n",
       "         0.96182959, 0.77402541, 0.77402541, 0.03701826, 0.03701826,\n",
       "         0.83039479, 0.83039479, 0.73546193, 0.73546193, 0.8630758 ,\n",
       "         0.8630758 , 0.67292449, 0.67292449, 0.79717756, 0.79717756,\n",
       "         0.06668757, 0.06668757, 0.91906131, 0.91906131, 0.19176283,\n",
       "         0.19176283, 0.8364579 , 0.8364579 , 0.17286058, 0.17286058,\n",
       "         0.49045873, 0.49045873, 0.64826369, 0.64826369, 0.34754624,\n",
       "         0.34754624, 0.78164734, 0.78164734, 0.41869855, 0.41869855,\n",
       "         0.03777831, 0.03777831, 0.52928134, 0.52928134, 0.2964415 ,\n",
       "         0.2964415 , 0.70268501, 0.70268501, 0.90907694, 0.90907694,\n",
       "         0.77927493, 0.77927493, 0.20164178, 0.20164178, 0.34025201,\n",
       "         0.34025201, 0.10584206, 0.10584206, 0.20232618, 0.20232618,\n",
       "         0.2412283 , 0.2412283 , 0.55828345, 0.55828345, 0.24112064,\n",
       "         0.24112064, 0.47253301, 0.47253301, 0.38919373, 0.38919373,\n",
       "         0.84325116, 0.84325116, 0.98454287, 0.98454287, 0.34514681,\n",
       "         0.34514681, 0.94472159, 0.94472159, 0.14837384, 0.14837384,\n",
       "         0.79204101, 0.79204101, 0.90671645, 0.90671645, 0.58231339,\n",
       "         0.58231339, 0.77843719, 0.77843719, 0.72686984, 0.72686984,\n",
       "         0.36420818, 0.36420818, 0.71896095, 0.71896095, 0.02508946,\n",
       "         0.02508946, 0.75016538, 0.75016538, 0.38176613, 0.38176613,\n",
       "         0.23434801, 0.23434801, 0.85654949, 0.85654949, 0.65639096,\n",
       "         0.65639096, 0.44582395, 0.44582395, 0.18443454, 0.18443454,\n",
       "         0.31710984, 0.31710984, 0.68601931, 0.68601931, 0.78219169,\n",
       "         0.78219169, 0.95518397, 0.95518397, 0.67939009, 0.67939009,\n",
       "         0.49296114, 0.49296114, 0.32630014, 0.32630014, 0.8821242 ,\n",
       "         0.8821242 , 0.3714504 , 0.3714504 , 0.87506059, 0.87506059,\n",
       "         0.12400929, 0.12400929, 0.39920713, 0.39920713, 0.37882908,\n",
       "         0.37882908, 0.05230508, 0.05230508, 0.62655646, 0.62655646,\n",
       "         0.94714309, 0.94714309, 0.17278787, 0.17278787, 0.62138761,\n",
       "         0.62138761, 0.15883875, 0.15883875, 0.06304639, 0.06304639,\n",
       "         0.67524713, 0.67524713, 0.47359526, 0.47359526, 0.26771186,\n",
       "         0.26771186, 0.22205693, 0.22205693, 0.00768216, 0.00768216])}}"
      ]
     },
     "execution_count": 11,
     "metadata": {},
     "output_type": "execute_result"
    }
   ],
   "source": [
    "ds = load_by_id(run_id_n)\n",
    "ds.get_parameter_data(\"x1\")"
   ]
  },
  {
   "cell_type": "markdown",
   "metadata": {},
   "source": [
    "And a dataset stored as binary arrays"
   ]
  },
  {
   "cell_type": "code",
   "execution_count": 12,
   "metadata": {
    "execution": {
     "iopub.execute_input": "2025-08-05T07:20:57.377694Z",
     "iopub.status.busy": "2025-08-05T07:20:57.377522Z",
     "iopub.status.idle": "2025-08-05T07:20:57.394141Z",
     "shell.execute_reply": "2025-08-05T07:20:57.393541Z"
    },
    "scrolled": true
   },
   "outputs": [
    {
     "data": {
      "text/plain": [
       "{'x1': {'x1': array([[0.06381654],\n",
       "         [0.06381654],\n",
       "         [0.20582195],\n",
       "         [0.20582195],\n",
       "         [0.72125184],\n",
       "         [0.72125184],\n",
       "         [0.80416154],\n",
       "         [0.80416154],\n",
       "         [0.7304303 ],\n",
       "         [0.7304303 ],\n",
       "         [0.6802036 ],\n",
       "         [0.6802036 ],\n",
       "         [0.47161135],\n",
       "         [0.47161135],\n",
       "         [0.75203441],\n",
       "         [0.75203441],\n",
       "         [0.705153  ],\n",
       "         [0.705153  ],\n",
       "         [0.20620497],\n",
       "         [0.20620497],\n",
       "         [0.57803817],\n",
       "         [0.57803817],\n",
       "         [0.61090045],\n",
       "         [0.61090045],\n",
       "         [0.98300253],\n",
       "         [0.98300253],\n",
       "         [0.86312471],\n",
       "         [0.86312471],\n",
       "         [0.31400919],\n",
       "         [0.31400919],\n",
       "         [0.28681937],\n",
       "         [0.28681937],\n",
       "         [0.01131558],\n",
       "         [0.01131558],\n",
       "         [0.27950596],\n",
       "         [0.27950596],\n",
       "         [0.076882  ],\n",
       "         [0.076882  ],\n",
       "         [0.88191027],\n",
       "         [0.88191027],\n",
       "         [0.72038134],\n",
       "         [0.72038134],\n",
       "         [0.31552574],\n",
       "         [0.31552574],\n",
       "         [0.43226017],\n",
       "         [0.43226017],\n",
       "         [0.0439387 ],\n",
       "         [0.0439387 ],\n",
       "         [0.38151609],\n",
       "         [0.38151609],\n",
       "         [0.65132751],\n",
       "         [0.65132751],\n",
       "         [0.27704624],\n",
       "         [0.27704624],\n",
       "         [0.59123582],\n",
       "         [0.59123582],\n",
       "         [0.10892224],\n",
       "         [0.10892224],\n",
       "         [0.89927346],\n",
       "         [0.89927346],\n",
       "         [0.99138123],\n",
       "         [0.99138123],\n",
       "         [0.75313963],\n",
       "         [0.75313963],\n",
       "         [0.00149986],\n",
       "         [0.00149986],\n",
       "         [0.39971811],\n",
       "         [0.39971811],\n",
       "         [0.58992568],\n",
       "         [0.58992568],\n",
       "         [0.63206955],\n",
       "         [0.63206955],\n",
       "         [0.71753034],\n",
       "         [0.71753034],\n",
       "         [0.41273922],\n",
       "         [0.41273922],\n",
       "         [0.4433865 ],\n",
       "         [0.4433865 ],\n",
       "         [0.00584556],\n",
       "         [0.00584556],\n",
       "         [0.10063533],\n",
       "         [0.10063533],\n",
       "         [0.47080844],\n",
       "         [0.47080844],\n",
       "         [0.74174906],\n",
       "         [0.74174906],\n",
       "         [0.60337981],\n",
       "         [0.60337981],\n",
       "         [0.37590034],\n",
       "         [0.37590034],\n",
       "         [0.61962677],\n",
       "         [0.61962677],\n",
       "         [0.363619  ],\n",
       "         [0.363619  ],\n",
       "         [0.03162326],\n",
       "         [0.03162326],\n",
       "         [0.41775171],\n",
       "         [0.41775171],\n",
       "         [0.42475127],\n",
       "         [0.42475127],\n",
       "         [0.70677908],\n",
       "         [0.70677908],\n",
       "         [0.61342927],\n",
       "         [0.61342927],\n",
       "         [0.8784342 ],\n",
       "         [0.8784342 ],\n",
       "         [0.58676862],\n",
       "         [0.58676862],\n",
       "         [0.8193391 ],\n",
       "         [0.8193391 ],\n",
       "         [0.31165511],\n",
       "         [0.31165511],\n",
       "         [0.50202453],\n",
       "         [0.50202453],\n",
       "         [0.29030006],\n",
       "         [0.29030006],\n",
       "         [0.0243712 ],\n",
       "         [0.0243712 ],\n",
       "         [0.64392378],\n",
       "         [0.64392378],\n",
       "         [0.4023607 ],\n",
       "         [0.4023607 ],\n",
       "         [0.9432733 ],\n",
       "         [0.9432733 ],\n",
       "         [0.94741583],\n",
       "         [0.94741583],\n",
       "         [0.3836048 ],\n",
       "         [0.3836048 ],\n",
       "         [0.46619328],\n",
       "         [0.46619328],\n",
       "         [0.19824678],\n",
       "         [0.19824678],\n",
       "         [0.05703605],\n",
       "         [0.05703605],\n",
       "         [0.28802355],\n",
       "         [0.28802355],\n",
       "         [0.12508412],\n",
       "         [0.12508412],\n",
       "         [0.25751974],\n",
       "         [0.25751974],\n",
       "         [0.28223511],\n",
       "         [0.28223511],\n",
       "         [0.36891702],\n",
       "         [0.36891702],\n",
       "         [0.66730561],\n",
       "         [0.66730561],\n",
       "         [0.88858839],\n",
       "         [0.88858839],\n",
       "         [0.80703608],\n",
       "         [0.80703608],\n",
       "         [0.90527931],\n",
       "         [0.90527931],\n",
       "         [0.85040708],\n",
       "         [0.85040708],\n",
       "         [0.62597412],\n",
       "         [0.62597412],\n",
       "         [0.53985006],\n",
       "         [0.53985006],\n",
       "         [0.81001182],\n",
       "         [0.81001182],\n",
       "         [0.21234528],\n",
       "         [0.21234528],\n",
       "         [0.84075519],\n",
       "         [0.84075519],\n",
       "         [0.37523058],\n",
       "         [0.37523058],\n",
       "         [0.74257336],\n",
       "         [0.74257336],\n",
       "         [0.8792428 ],\n",
       "         [0.8792428 ],\n",
       "         [0.86313662],\n",
       "         [0.86313662],\n",
       "         [0.85575482],\n",
       "         [0.85575482],\n",
       "         [0.4051235 ],\n",
       "         [0.4051235 ],\n",
       "         [0.27010323],\n",
       "         [0.27010323],\n",
       "         [0.97419645],\n",
       "         [0.97419645],\n",
       "         [0.84614562],\n",
       "         [0.84614562],\n",
       "         [0.58334849],\n",
       "         [0.58334849],\n",
       "         [0.81739813],\n",
       "         [0.81739813],\n",
       "         [0.40707084],\n",
       "         [0.40707084],\n",
       "         [0.91928765],\n",
       "         [0.91928765],\n",
       "         [0.30408291],\n",
       "         [0.30408291],\n",
       "         [0.12499886],\n",
       "         [0.12499886],\n",
       "         [0.92189457],\n",
       "         [0.92189457],\n",
       "         [0.13834058],\n",
       "         [0.13834058],\n",
       "         [0.02353345],\n",
       "         [0.02353345]])}}"
      ]
     },
     "execution_count": 12,
     "metadata": {},
     "output_type": "execute_result"
    }
   ],
   "source": [
    "ds = load_by_id(run_id_a)\n",
    "ds.get_parameter_data(\"x1\")"
   ]
  },
  {
   "cell_type": "code",
   "execution_count": null,
   "metadata": {},
   "outputs": [],
   "source": []
  }
 ],
 "metadata": {
  "kernelspec": {
   "display_name": ".venv",
   "language": "python",
   "name": "python3"
  },
  "language_info": {
   "codemirror_mode": {
    "name": "ipython",
    "version": 3
   },
   "file_extension": ".py",
   "mimetype": "text/x-python",
   "name": "python",
   "nbconvert_exporter": "python",
   "pygments_lexer": "ipython3",
   "version": "3.11.13"
  },
  "nbsphinx": {
   "timeout": 600
  },
  "toc": {
   "base_numbering": 1,
   "nav_menu": {},
   "number_sections": true,
   "sideBar": true,
   "skip_h1_title": false,
   "title_cell": "Table of Contents",
   "title_sidebar": "Contents",
   "toc_cell": false,
   "toc_position": {},
   "toc_section_display": true,
   "toc_window_display": false
  },
  "varInspector": {
   "cols": {
    "lenName": 16,
    "lenType": 16,
    "lenVar": 40
   },
   "kernels_config": {
    "python": {
     "delete_cmd_postfix": "",
     "delete_cmd_prefix": "del ",
     "library": "var_list.py",
     "varRefreshCmd": "print(var_dic_list())"
    },
    "r": {
     "delete_cmd_postfix": ") ",
     "delete_cmd_prefix": "rm(",
     "library": "var_list.r",
     "varRefreshCmd": "cat(var_dic_list()) "
    }
   },
   "types_to_exclude": [
    "module",
    "function",
    "builtin_function_or_method",
    "instance",
    "_Feature"
   ],
   "window_display": false
  }
 },
 "nbformat": 4,
 "nbformat_minor": 4
}
