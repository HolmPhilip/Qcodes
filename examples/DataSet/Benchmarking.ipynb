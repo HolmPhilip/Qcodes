{
 "cells": [
  {
   "cell_type": "markdown",
   "metadata": {},
   "source": [
    "# Dataset Benchmarking\n",
    "\n",
    "This notebook is a behind-the-scenes benchmarking notebook, mainly for use by developers. The recommended way for users to interact with the dataset is via the `Measurement` object and its associated context manager. See the corresponding notebook for a comprehensive toturial on how to use those."
   ]
  },
  {
   "cell_type": "code",
   "execution_count": 1,
   "metadata": {
    "execution": {
     "iopub.execute_input": "2025-08-05T07:19:15.105058Z",
     "iopub.status.busy": "2025-08-05T07:19:15.104884Z",
     "iopub.status.idle": "2025-08-05T07:19:15.936453Z",
     "shell.execute_reply": "2025-08-05T07:19:15.935774Z"
    }
   },
   "outputs": [],
   "source": [
    "%matplotlib inline\n",
    "from pathlib import Path\n",
    "\n",
    "import numpy as np\n",
    "\n",
    "import qcodes as qc\n",
    "from qcodes.dataset import (\n",
    "    ParamSpec,\n",
    "    initialise_or_create_database_at,\n",
    "    load_or_create_experiment,\n",
    "    new_data_set,\n",
    ")"
   ]
  },
  {
   "cell_type": "code",
   "execution_count": 2,
   "metadata": {
    "execution": {
     "iopub.execute_input": "2025-08-05T07:19:15.938873Z",
     "iopub.status.busy": "2025-08-05T07:19:15.938575Z",
     "iopub.status.idle": "2025-08-05T07:19:15.943477Z",
     "shell.execute_reply": "2025-08-05T07:19:15.942780Z"
    }
   },
   "outputs": [
    {
     "data": {
      "text/plain": [
       "'~/experiments.db'"
      ]
     },
     "execution_count": 2,
     "metadata": {},
     "output_type": "execute_result"
    }
   ],
   "source": [
    "qc.config.core.db_location"
   ]
  },
  {
   "cell_type": "code",
   "execution_count": 3,
   "metadata": {
    "execution": {
     "iopub.execute_input": "2025-08-05T07:19:15.975691Z",
     "iopub.status.busy": "2025-08-05T07:19:15.975509Z",
     "iopub.status.idle": "2025-08-05T07:19:16.005619Z",
     "shell.execute_reply": "2025-08-05T07:19:16.005033Z"
    }
   },
   "outputs": [],
   "source": [
    "initialise_or_create_database_at(\n",
    "    Path.cwd().parent / \"example_output\" / \"benchmarking.db\"\n",
    ")"
   ]
  },
  {
   "cell_type": "markdown",
   "metadata": {},
   "source": [
    "## Setup"
   ]
  },
  {
   "cell_type": "code",
   "execution_count": 4,
   "metadata": {
    "execution": {
     "iopub.execute_input": "2025-08-05T07:19:16.007623Z",
     "iopub.status.busy": "2025-08-05T07:19:16.007459Z",
     "iopub.status.idle": "2025-08-05T07:19:16.013429Z",
     "shell.execute_reply": "2025-08-05T07:19:16.012860Z"
    }
   },
   "outputs": [
    {
     "data": {
      "text/plain": [
       "benchmarking#the sample is a lie#1@/home/runner/work/Qcodes/Qcodes/docs/examples/example_output/benchmarking.db\n",
       "---------------------------------------------------------------------------------------------------------------"
      ]
     },
     "execution_count": 4,
     "metadata": {},
     "output_type": "execute_result"
    }
   ],
   "source": [
    "exp = load_or_create_experiment(\"benchmarking\", sample_name=\"the sample is a lie\")\n",
    "exp"
   ]
  },
  {
   "cell_type": "markdown",
   "metadata": {},
   "source": [
    "Now we can create a dataset. Note two things:\n",
    "\n",
    "    - if we don't specfiy a exp_id, but we have an experiment in the experiment container the dataset will go into that one.\n",
    "    - dataset can be created from the experiment object\n",
    "    "
   ]
  },
  {
   "cell_type": "code",
   "execution_count": 5,
   "metadata": {
    "execution": {
     "iopub.execute_input": "2025-08-05T07:19:16.015344Z",
     "iopub.status.busy": "2025-08-05T07:19:16.015186Z",
     "iopub.status.idle": "2025-08-05T07:19:16.021797Z",
     "shell.execute_reply": "2025-08-05T07:19:16.021193Z"
    }
   },
   "outputs": [
    {
     "data": {
      "text/plain": [
       "benchmarking#the sample is a lie#1@/home/runner/work/Qcodes/Qcodes/docs/examples/example_output/benchmarking.db\n",
       "---------------------------------------------------------------------------------------------------------------\n",
       "1-benchmark_data-1-None-0"
      ]
     },
     "execution_count": 5,
     "metadata": {},
     "output_type": "execute_result"
    }
   ],
   "source": [
    "dataSet = new_data_set(\"benchmark_data\", exp_id=exp.exp_id)\n",
    "exp"
   ]
  },
  {
   "cell_type": "markdown",
   "metadata": {},
   "source": [
    "In this benchmark we will assueme that we are doing a 2D loop and investigate the performance implications of writing to the dataset"
   ]
  },
  {
   "cell_type": "code",
   "execution_count": 6,
   "metadata": {
    "execution": {
     "iopub.execute_input": "2025-08-05T07:19:16.023592Z",
     "iopub.status.busy": "2025-08-05T07:19:16.023393Z",
     "iopub.status.idle": "2025-08-05T07:19:16.026195Z",
     "shell.execute_reply": "2025-08-05T07:19:16.025567Z"
    }
   },
   "outputs": [],
   "source": [
    "x_shape = 100\n",
    "y_shape = 100"
   ]
  },
  {
   "cell_type": "markdown",
   "metadata": {},
   "source": [
    "## Baseline: Generate data"
   ]
  },
  {
   "cell_type": "code",
   "execution_count": 7,
   "metadata": {
    "execution": {
     "iopub.execute_input": "2025-08-05T07:19:16.027924Z",
     "iopub.status.busy": "2025-08-05T07:19:16.027765Z",
     "iopub.status.idle": "2025-08-05T07:19:16.042343Z",
     "shell.execute_reply": "2025-08-05T07:19:16.041758Z"
    }
   },
   "outputs": [
    {
     "name": "stdout",
     "output_type": "stream",
     "text": [
      "CPU times: user 9.06 ms, sys: 2.01 ms, total: 11.1 ms\n",
      "Wall time: 10.8 ms\n"
     ]
    }
   ],
   "source": [
    "%%time\n",
    "for x in range(x_shape):\n",
    "    for y in range(y_shape):\n",
    "        z = np.random.random_sample(1)"
   ]
  },
  {
   "cell_type": "markdown",
   "metadata": {},
   "source": [
    "and store in memory"
   ]
  },
  {
   "cell_type": "code",
   "execution_count": 8,
   "metadata": {
    "execution": {
     "iopub.execute_input": "2025-08-05T07:19:16.044055Z",
     "iopub.status.busy": "2025-08-05T07:19:16.043795Z",
     "iopub.status.idle": "2025-08-05T07:19:16.047435Z",
     "shell.execute_reply": "2025-08-05T07:19:16.046795Z"
    }
   },
   "outputs": [],
   "source": [
    "x_data = np.zeros((x_shape, y_shape))\n",
    "y_data = np.zeros((x_shape, y_shape))\n",
    "z_data = np.zeros((x_shape, y_shape))"
   ]
  },
  {
   "cell_type": "code",
   "execution_count": 9,
   "metadata": {
    "execution": {
     "iopub.execute_input": "2025-08-05T07:19:16.049262Z",
     "iopub.status.busy": "2025-08-05T07:19:16.049029Z",
     "iopub.status.idle": "2025-08-05T07:19:16.069155Z",
     "shell.execute_reply": "2025-08-05T07:19:16.068580Z"
    }
   },
   "outputs": [
    {
     "name": "stdout",
     "output_type": "stream",
     "text": [
      "CPU times: user 15.8 ms, sys: 132 μs, total: 15.9 ms\n",
      "Wall time: 15.7 ms\n"
     ]
    }
   ],
   "source": [
    "%%time\n",
    "for x in range(x_shape):\n",
    "    for y in range(y_shape):\n",
    "        x_data[x, y] = x\n",
    "        y_data[x, y] = y\n",
    "        z_data[x, y] = np.random.random_sample()"
   ]
  },
  {
   "cell_type": "markdown",
   "metadata": {},
   "source": [
    "## Add to dataset inside double loop"
   ]
  },
  {
   "cell_type": "code",
   "execution_count": 10,
   "metadata": {
    "execution": {
     "iopub.execute_input": "2025-08-05T07:19:16.071040Z",
     "iopub.status.busy": "2025-08-05T07:19:16.070812Z",
     "iopub.status.idle": "2025-08-05T07:19:16.081335Z",
     "shell.execute_reply": "2025-08-05T07:19:16.080720Z"
    }
   },
   "outputs": [],
   "source": [
    "double_dataset = new_data_set(\n",
    "    \"doubledata\",\n",
    "    exp_id=exp.exp_id,\n",
    "    specs=[\n",
    "        ParamSpec(\"x\", \"numeric\"),\n",
    "        ParamSpec(\"y\", \"numeric\"),\n",
    "        ParamSpec(\"z\", \"numeric\"),\n",
    "    ],\n",
    ")\n",
    "double_dataset.mark_started()"
   ]
  },
  {
   "cell_type": "markdown",
   "metadata": {},
   "source": [
    "Note that this is so slow that we are only doing a 10th of the computation"
   ]
  },
  {
   "cell_type": "code",
   "execution_count": 11,
   "metadata": {
    "execution": {
     "iopub.execute_input": "2025-08-05T07:19:16.083273Z",
     "iopub.status.busy": "2025-08-05T07:19:16.083101Z",
     "iopub.status.idle": "2025-08-05T07:19:16.897390Z",
     "shell.execute_reply": "2025-08-05T07:19:16.896709Z"
    }
   },
   "outputs": [
    {
     "name": "stdout",
     "output_type": "stream",
     "text": [
      "CPU times: user 151 ms, sys: 71.7 ms, total: 223 ms\n",
      "Wall time: 810 ms\n"
     ]
    }
   ],
   "source": [
    "%%time\n",
    "for x in range(x_shape // 10):\n",
    "    for y in range(y_shape):\n",
    "        double_dataset.add_results([{\"x\": x, \"y\": y, \"z\": np.random.random_sample()}])"
   ]
  },
  {
   "cell_type": "markdown",
   "metadata": {},
   "source": [
    "## Add the data in outer loop and store as np array"
   ]
  },
  {
   "cell_type": "code",
   "execution_count": 12,
   "metadata": {
    "execution": {
     "iopub.execute_input": "2025-08-05T07:19:16.899270Z",
     "iopub.status.busy": "2025-08-05T07:19:16.899091Z",
     "iopub.status.idle": "2025-08-05T07:19:16.907562Z",
     "shell.execute_reply": "2025-08-05T07:19:16.906950Z"
    }
   },
   "outputs": [],
   "source": [
    "single_dataset = new_data_set(\n",
    "    \"singledata\",\n",
    "    exp_id=exp.exp_id,\n",
    "    specs=[ParamSpec(\"x\", \"array\"), ParamSpec(\"y\", \"array\"), ParamSpec(\"z\", \"array\")],\n",
    ")\n",
    "single_dataset.mark_started()\n",
    "x_data = np.zeros(y_shape)\n",
    "y_data = np.zeros(y_shape)\n",
    "z_data = np.zeros(y_shape)"
   ]
  },
  {
   "cell_type": "code",
   "execution_count": 13,
   "metadata": {
    "execution": {
     "iopub.execute_input": "2025-08-05T07:19:16.909356Z",
     "iopub.status.busy": "2025-08-05T07:19:16.909188Z",
     "iopub.status.idle": "2025-08-05T07:19:16.985629Z",
     "shell.execute_reply": "2025-08-05T07:19:16.984955Z"
    }
   },
   "outputs": [
    {
     "name": "stdout",
     "output_type": "stream",
     "text": [
      "CPU times: user 44.7 ms, sys: 6.65 ms, total: 51.4 ms\n",
      "Wall time: 72 ms\n"
     ]
    },
    {
     "name": "stderr",
     "output_type": "stream",
     "text": [
      "<timed exec>:5: DeprecationWarning: Conversion of an array with ndim > 0 to a scalar is deprecated, and will error in future. Ensure you extract a single element from your array before performing this operation. (Deprecated NumPy 1.25.)\n"
     ]
    }
   ],
   "source": [
    "%%time\n",
    "for x in range(x_shape):\n",
    "    for y in range(y_shape):\n",
    "        x_data[y] = x\n",
    "        y_data[y] = y\n",
    "        z_data[y] = np.random.random_sample(1)\n",
    "    single_dataset.add_results([{\"x\": x_data, \"y\": y_data, \"z\": z_data}])"
   ]
  },
  {
   "cell_type": "markdown",
   "metadata": {},
   "source": [
    "## Save once after loop"
   ]
  },
  {
   "cell_type": "code",
   "execution_count": 14,
   "metadata": {
    "execution": {
     "iopub.execute_input": "2025-08-05T07:19:16.987448Z",
     "iopub.status.busy": "2025-08-05T07:19:16.987273Z",
     "iopub.status.idle": "2025-08-05T07:19:16.997124Z",
     "shell.execute_reply": "2025-08-05T07:19:16.996606Z"
    }
   },
   "outputs": [],
   "source": [
    "zero_dataset = new_data_set(\n",
    "    \"zerodata\",\n",
    "    exp_id=exp.exp_id,\n",
    "    specs=[ParamSpec(\"x\", \"array\"), ParamSpec(\"y\", \"array\"), ParamSpec(\"z\", \"array\")],\n",
    ")\n",
    "zero_dataset.mark_started()\n",
    "x_data = np.zeros((x_shape, y_shape))\n",
    "y_data = np.zeros((x_shape, y_shape))\n",
    "z_data = np.zeros((x_shape, y_shape))"
   ]
  },
  {
   "cell_type": "code",
   "execution_count": 15,
   "metadata": {
    "execution": {
     "iopub.execute_input": "2025-08-05T07:19:16.998710Z",
     "iopub.status.busy": "2025-08-05T07:19:16.998543Z",
     "iopub.status.idle": "2025-08-05T07:19:17.034370Z",
     "shell.execute_reply": "2025-08-05T07:19:17.033758Z"
    }
   },
   "outputs": [
    {
     "name": "stdout",
     "output_type": "stream",
     "text": [
      "CPU times: user 25.4 ms, sys: 114 μs, total: 25.5 ms\n",
      "Wall time: 31.5 ms\n"
     ]
    },
    {
     "name": "stderr",
     "output_type": "stream",
     "text": [
      "<timed exec>:5: DeprecationWarning: Conversion of an array with ndim > 0 to a scalar is deprecated, and will error in future. Ensure you extract a single element from your array before performing this operation. (Deprecated NumPy 1.25.)\n"
     ]
    }
   ],
   "source": [
    "%%time\n",
    "for x in range(x_shape):\n",
    "    for y in range(y_shape):\n",
    "        x_data[x, y] = x\n",
    "        y_data[x, y] = y\n",
    "        z_data[x, y] = np.random.random_sample(1)\n",
    "zero_dataset.add_results([{\"x\": x_data, \"y\": y_data, \"z\": z_data}])"
   ]
  },
  {
   "cell_type": "markdown",
   "metadata": {},
   "source": [
    "## Array parameter"
   ]
  },
  {
   "cell_type": "code",
   "execution_count": 16,
   "metadata": {
    "execution": {
     "iopub.execute_input": "2025-08-05T07:19:17.036300Z",
     "iopub.status.busy": "2025-08-05T07:19:17.036131Z",
     "iopub.status.idle": "2025-08-05T07:19:17.044425Z",
     "shell.execute_reply": "2025-08-05T07:19:17.043827Z"
    }
   },
   "outputs": [],
   "source": [
    "array1D_dataset = new_data_set(\n",
    "    \"array1Ddata\",\n",
    "    exp_id=exp.exp_id,\n",
    "    specs=[ParamSpec(\"x\", \"array\"), ParamSpec(\"y\", \"array\"), ParamSpec(\"z\", \"array\")],\n",
    ")\n",
    "array1D_dataset.mark_started()\n",
    "y_setpoints = np.arange(y_shape)"
   ]
  },
  {
   "cell_type": "code",
   "execution_count": 17,
   "metadata": {
    "execution": {
     "iopub.execute_input": "2025-08-05T07:19:17.046375Z",
     "iopub.status.busy": "2025-08-05T07:19:17.046157Z",
     "iopub.status.idle": "2025-08-05T07:19:20.843396Z",
     "shell.execute_reply": "2025-08-05T07:19:20.842874Z"
    }
   },
   "outputs": [
    {
     "name": "stdout",
     "output_type": "stream",
     "text": [
      "46 ms ± 3.61 ms per loop (mean ± std. dev. of 7 runs, 10 loops each)\n"
     ]
    }
   ],
   "source": [
    "%%timeit\n",
    "for x in range(x_shape):\n",
    "    x_data[x, :] = x\n",
    "    array1D_dataset.add_results(\n",
    "        [{\"x\": x_data[x, :], \"y\": y_setpoints, \"z\": np.random.random_sample(y_shape)}]\n",
    "    )"
   ]
  },
  {
   "cell_type": "code",
   "execution_count": 18,
   "metadata": {
    "execution": {
     "iopub.execute_input": "2025-08-05T07:19:20.845098Z",
     "iopub.status.busy": "2025-08-05T07:19:20.844941Z",
     "iopub.status.idle": "2025-08-05T07:19:20.848134Z",
     "shell.execute_reply": "2025-08-05T07:19:20.847544Z"
    }
   },
   "outputs": [],
   "source": [
    "x_data = np.zeros((x_shape, y_shape))\n",
    "y_data = np.zeros((x_shape, y_shape))\n",
    "z_data = np.zeros((x_shape, y_shape))\n",
    "y_setpoints = np.arange(y_shape)"
   ]
  },
  {
   "cell_type": "code",
   "execution_count": 19,
   "metadata": {
    "execution": {
     "iopub.execute_input": "2025-08-05T07:19:20.849725Z",
     "iopub.status.busy": "2025-08-05T07:19:20.849566Z",
     "iopub.status.idle": "2025-08-05T07:19:20.857266Z",
     "shell.execute_reply": "2025-08-05T07:19:20.856821Z"
    }
   },
   "outputs": [],
   "source": [
    "array0D_dataset = new_data_set(\n",
    "    \"array0Ddata\",\n",
    "    exp_id=exp.exp_id,\n",
    "    specs=[ParamSpec(\"x\", \"array\"), ParamSpec(\"y\", \"array\"), ParamSpec(\"z\", \"array\")],\n",
    ")\n",
    "array0D_dataset.mark_started()"
   ]
  },
  {
   "cell_type": "code",
   "execution_count": 20,
   "metadata": {
    "execution": {
     "iopub.execute_input": "2025-08-05T07:19:20.858951Z",
     "iopub.status.busy": "2025-08-05T07:19:20.858721Z",
     "iopub.status.idle": "2025-08-05T07:19:34.133775Z",
     "shell.execute_reply": "2025-08-05T07:19:34.133152Z"
    }
   },
   "outputs": [
    {
     "name": "stdout",
     "output_type": "stream",
     "text": [
      "1.64 ms ± 92.2 μs per loop (mean ± std. dev. of 7 runs, 1,000 loops each)\n"
     ]
    }
   ],
   "source": [
    "%%timeit\n",
    "for x in range(x_shape):\n",
    "    x_data[x, :] = x\n",
    "    y_data[x, :] = y_setpoints\n",
    "    z_data[x, :] = np.random.random_sample(y_shape)\n",
    "array0D_dataset.add_results([{\"x\": x_data, \"y\": y_data, \"z\": z_data}])"
   ]
  },
  {
   "cell_type": "markdown",
   "metadata": {},
   "source": [
    "## Insert many"
   ]
  },
  {
   "cell_type": "code",
   "execution_count": 21,
   "metadata": {
    "execution": {
     "iopub.execute_input": "2025-08-05T07:19:34.135519Z",
     "iopub.status.busy": "2025-08-05T07:19:34.135345Z",
     "iopub.status.idle": "2025-08-05T07:19:34.144195Z",
     "shell.execute_reply": "2025-08-05T07:19:34.143589Z"
    }
   },
   "outputs": [],
   "source": [
    "data = []\n",
    "for i in range(100):\n",
    "    for j in range(100):\n",
    "        data.append({\"x\": i, \"y\": j, \"z\": np.random.random_sample()})"
   ]
  },
  {
   "cell_type": "code",
   "execution_count": 22,
   "metadata": {
    "execution": {
     "iopub.execute_input": "2025-08-05T07:19:34.145838Z",
     "iopub.status.busy": "2025-08-05T07:19:34.145652Z",
     "iopub.status.idle": "2025-08-05T07:19:34.153216Z",
     "shell.execute_reply": "2025-08-05T07:19:34.152601Z"
    }
   },
   "outputs": [],
   "source": [
    "many_Data = new_data_set(\n",
    "    \"many_data\",\n",
    "    exp_id=exp.exp_id,\n",
    "    specs=[\n",
    "        ParamSpec(\"x\", \"numeric\"),\n",
    "        ParamSpec(\"y\", \"numeric\"),\n",
    "        ParamSpec(\"z\", \"numeric\"),\n",
    "    ],\n",
    ")\n",
    "many_Data.mark_started()"
   ]
  },
  {
   "cell_type": "code",
   "execution_count": 23,
   "metadata": {
    "execution": {
     "iopub.execute_input": "2025-08-05T07:19:34.154777Z",
     "iopub.status.busy": "2025-08-05T07:19:34.154592Z",
     "iopub.status.idle": "2025-08-05T07:19:49.087491Z",
     "shell.execute_reply": "2025-08-05T07:19:49.086936Z"
    }
   },
   "outputs": [
    {
     "name": "stdout",
     "output_type": "stream",
     "text": [
      "18.4 ms ± 31.8 μs per loop (mean ± std. dev. of 7 runs, 100 loops each)\n"
     ]
    }
   ],
   "source": [
    "%%timeit\n",
    "many_Data.add_results(data)"
   ]
  }
 ],
 "metadata": {
  "kernelspec": {
   "display_name": ".venv",
   "language": "python",
   "name": "python3"
  },
  "language_info": {
   "codemirror_mode": {
    "name": "ipython",
    "version": 3
   },
   "file_extension": ".py",
   "mimetype": "text/x-python",
   "name": "python",
   "nbconvert_exporter": "python",
   "pygments_lexer": "ipython3",
   "version": "3.11.13"
  },
  "nbsphinx": {
   "timeout": 600
  }
 },
 "nbformat": 4,
 "nbformat_minor": 2
}
