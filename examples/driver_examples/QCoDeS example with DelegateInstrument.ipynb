{
 "cells": [
  {
   "cell_type": "markdown",
   "id": "plain-primary",
   "metadata": {},
   "source": [
    "# Qcodes example with DelegateInstrument driver\n",
    "\n",
    "This notebooks explains how to use the `DelegateInstrument` driver.\n",
    "\n",
    "## About\n",
    "The goal of the `DelegateInstrument` driver is to make it easier to combine different parameters together into a new \"virtual\" instrument. Each parameter on a `DelegateInstrument` can point to one or more parameters on other instruments in the station.\n",
    "\n",
    "## Usage\n",
    "The way it's used is mainly by specifying an entry in the station YAML. For instance, let's say you want to use a magnetic field coil. The driver has a method set_field(value, block), that by default is set to block=True, which means the field is ramped in a way that blocks further execution until the desired value is reached. However, let's say you are creating a measurement in which you want the parameter to be set, and while the value is ramping, you want to measure other parameters. This can be done by using `DelegateInstrument` and specifying a custom `setter` for the parameter that gets and sets the magnetic field.\n",
    "\n",
    "By default, each parameter is represented by a `DelegateParameter`. The `DelegateInstrument` also supports passing multiple source parameters to a given parameter. In order to do this, simply specify multiple parameters in the dictionary values  under the `parameters` key.\n",
    "\n",
    "It can also add instrument channels, specified under a separate key `channels`, shown in the second half of the notebook."
   ]
  },
  {
   "cell_type": "code",
   "execution_count": 1,
   "id": "sapphire-quebec",
   "metadata": {
    "execution": {
     "iopub.execute_input": "2025-08-05T07:19:19.823644Z",
     "iopub.status.busy": "2025-08-05T07:19:19.823428Z",
     "iopub.status.idle": "2025-08-05T07:19:19.831382Z",
     "shell.execute_reply": "2025-08-05T07:19:19.830709Z"
    }
   },
   "outputs": [
    {
     "name": "stdout",
     "output_type": "stream",
     "text": [
      "Writing delegate_instrument_example.yaml\n"
     ]
    }
   ],
   "source": [
    "%%writefile delegate_instrument_example.yaml\n",
    "\n",
    "instruments:\n",
    "  field_X:\n",
    "    type: qcodes.instrument_drivers.mock_instruments.MockField\n",
    "\n",
    "  field:\n",
    "    type: qcodes.instrument.delegate.DelegateInstrument\n",
    "    init:\n",
    "      parameters:\n",
    "        X:\n",
    "          - field_X.field\n",
    "        ramp_rate:\n",
    "          - field_X.ramp_rate\n",
    "        combined:\n",
    "          - field_X.field\n",
    "          - field_X.ramp_rate\n",
    "      set_initial_values_on_load: true\n",
    "      initial_values:\n",
    "        ramp_rate: 1.0\n",
    "      setters:\n",
    "        X:\n",
    "          method: field_X.set_field\n",
    "          block: false"
   ]
  },
  {
   "cell_type": "code",
   "execution_count": 2,
   "id": "younger-newspaper",
   "metadata": {
    "execution": {
     "iopub.execute_input": "2025-08-05T07:19:19.833376Z",
     "iopub.status.busy": "2025-08-05T07:19:19.833195Z",
     "iopub.status.idle": "2025-08-05T07:19:20.259145Z",
     "shell.execute_reply": "2025-08-05T07:19:20.258452Z"
    }
   },
   "outputs": [],
   "source": [
    "from pathlib import Path\n",
    "\n",
    "import qcodes as qc\n",
    "from qcodes.dataset import (\n",
    "    Measurement,\n",
    "    initialise_or_create_database_at,\n",
    "    load_or_create_experiment,\n",
    ")"
   ]
  },
  {
   "cell_type": "code",
   "execution_count": 3,
   "id": "muslim-briefs",
   "metadata": {
    "execution": {
     "iopub.execute_input": "2025-08-05T07:19:20.261330Z",
     "iopub.status.busy": "2025-08-05T07:19:20.261082Z",
     "iopub.status.idle": "2025-08-05T07:19:20.282842Z",
     "shell.execute_reply": "2025-08-05T07:19:20.282209Z"
    }
   },
   "outputs": [],
   "source": [
    "station = qc.Station(config_file=\"delegate_instrument_example.yaml\")"
   ]
  },
  {
   "cell_type": "code",
   "execution_count": 4,
   "id": "greatest-antenna",
   "metadata": {
    "execution": {
     "iopub.execute_input": "2025-08-05T07:19:20.284672Z",
     "iopub.status.busy": "2025-08-05T07:19:20.284514Z",
     "iopub.status.idle": "2025-08-05T07:19:20.303768Z",
     "shell.execute_reply": "2025-08-05T07:19:20.303216Z"
    }
   },
   "outputs": [],
   "source": [
    "field_X = station.load_field_X()\n",
    "field = station.load_field(station=station)"
   ]
  },
  {
   "cell_type": "code",
   "execution_count": 5,
   "id": "every-playing",
   "metadata": {
    "execution": {
     "iopub.execute_input": "2025-08-05T07:19:20.305537Z",
     "iopub.status.busy": "2025-08-05T07:19:20.305371Z",
     "iopub.status.idle": "2025-08-05T07:19:20.311763Z",
     "shell.execute_reply": "2025-08-05T07:19:20.311163Z"
    }
   },
   "outputs": [
    {
     "data": {
      "text/plain": [
       "0.0"
      ]
     },
     "execution_count": 5,
     "metadata": {},
     "output_type": "execute_result"
    }
   ],
   "source": [
    "field.X()"
   ]
  },
  {
   "cell_type": "code",
   "execution_count": 6,
   "id": "undefined-worst",
   "metadata": {
    "execution": {
     "iopub.execute_input": "2025-08-05T07:19:20.313531Z",
     "iopub.status.busy": "2025-08-05T07:19:20.313338Z",
     "iopub.status.idle": "2025-08-05T07:19:20.316256Z",
     "shell.execute_reply": "2025-08-05T07:19:20.315660Z"
    }
   },
   "outputs": [],
   "source": [
    "field.X(1.0)"
   ]
  },
  {
   "cell_type": "code",
   "execution_count": 7,
   "id": "recreational-suggestion",
   "metadata": {
    "execution": {
     "iopub.execute_input": "2025-08-05T07:19:20.317960Z",
     "iopub.status.busy": "2025-08-05T07:19:20.317805Z",
     "iopub.status.idle": "2025-08-05T07:19:20.321390Z",
     "shell.execute_reply": "2025-08-05T07:19:20.320814Z"
    }
   },
   "outputs": [
    {
     "data": {
      "text/plain": [
       "7.117986679077149e-05"
      ]
     },
     "execution_count": 7,
     "metadata": {},
     "output_type": "execute_result"
    }
   ],
   "source": [
    "field.X()"
   ]
  },
  {
   "cell_type": "code",
   "execution_count": 8,
   "id": "adopted-exchange",
   "metadata": {
    "execution": {
     "iopub.execute_input": "2025-08-05T07:19:20.323344Z",
     "iopub.status.busy": "2025-08-05T07:19:20.323175Z",
     "iopub.status.idle": "2025-08-05T07:19:20.326793Z",
     "shell.execute_reply": "2025-08-05T07:19:20.326193Z"
    }
   },
   "outputs": [
    {
     "data": {
      "text/plain": [
       "0.00016169945398966472"
      ]
     },
     "execution_count": 8,
     "metadata": {},
     "output_type": "execute_result"
    }
   ],
   "source": [
    "field.X()"
   ]
  },
  {
   "cell_type": "code",
   "execution_count": 9,
   "id": "bound-broadcasting",
   "metadata": {
    "execution": {
     "iopub.execute_input": "2025-08-05T07:19:20.328561Z",
     "iopub.status.busy": "2025-08-05T07:19:20.328324Z",
     "iopub.status.idle": "2025-08-05T07:19:20.332997Z",
     "shell.execute_reply": "2025-08-05T07:19:20.332396Z"
    }
   },
   "outputs": [
    {
     "data": {
      "text/plain": [
       "0.00025299390157063805"
      ]
     },
     "execution_count": 9,
     "metadata": {},
     "output_type": "execute_result"
    }
   ],
   "source": [
    "field.X()"
   ]
  },
  {
   "cell_type": "code",
   "execution_count": 10,
   "id": "casual-ghost",
   "metadata": {
    "execution": {
     "iopub.execute_input": "2025-08-05T07:19:20.334805Z",
     "iopub.status.busy": "2025-08-05T07:19:20.334540Z",
     "iopub.status.idle": "2025-08-05T07:19:20.338997Z",
     "shell.execute_reply": "2025-08-05T07:19:20.338328Z"
    }
   },
   "outputs": [
    {
     "data": {
      "text/plain": [
       "0.00035539070765177406"
      ]
     },
     "execution_count": 10,
     "metadata": {},
     "output_type": "execute_result"
    }
   ],
   "source": [
    "field.X()"
   ]
  },
  {
   "cell_type": "markdown",
   "id": "alike-process",
   "metadata": {},
   "source": [
    "As you can see, the field is now ramped in the background with the specified ramp rate. Now, let's try to create a measurement that uses this ability, and ramps the field in the background while measuring:"
   ]
  },
  {
   "cell_type": "code",
   "execution_count": 11,
   "id": "sustained-tiger",
   "metadata": {
    "execution": {
     "iopub.execute_input": "2025-08-05T07:19:20.340970Z",
     "iopub.status.busy": "2025-08-05T07:19:20.340802Z",
     "iopub.status.idle": "2025-08-05T07:19:20.345613Z",
     "shell.execute_reply": "2025-08-05T07:19:20.344993Z"
    }
   },
   "outputs": [],
   "source": [
    "field.ramp_rate(10.0)\n",
    "field_X.field(0.0)"
   ]
  },
  {
   "cell_type": "code",
   "execution_count": 12,
   "id": "pharmaceutical-partition",
   "metadata": {
    "execution": {
     "iopub.execute_input": "2025-08-05T07:19:20.347289Z",
     "iopub.status.busy": "2025-08-05T07:19:20.347121Z",
     "iopub.status.idle": "2025-08-05T07:19:20.351168Z",
     "shell.execute_reply": "2025-08-05T07:19:20.350526Z"
    }
   },
   "outputs": [
    {
     "data": {
      "text/plain": [
       "0.0"
      ]
     },
     "execution_count": 12,
     "metadata": {},
     "output_type": "execute_result"
    }
   ],
   "source": [
    "field.X()"
   ]
  },
  {
   "cell_type": "code",
   "execution_count": 13,
   "id": "happy-ordinance",
   "metadata": {
    "execution": {
     "iopub.execute_input": "2025-08-05T07:19:20.352961Z",
     "iopub.status.busy": "2025-08-05T07:19:20.352694Z",
     "iopub.status.idle": "2025-08-05T07:19:21.614010Z",
     "shell.execute_reply": "2025-08-05T07:19:21.613212Z"
    }
   },
   "outputs": [
    {
     "name": "stdout",
     "output_type": "stream",
     "text": [
      "Starting experimental run with id: 1. \n"
     ]
    }
   ],
   "source": [
    "import time\n",
    "\n",
    "initialise_or_create_database_at(\n",
    "    Path.cwd().parent / \"example_output\" / \"delegate_instrument_example.db\"\n",
    ")\n",
    "load_or_create_experiment(\"delegate_instrument_experiment\")\n",
    "\n",
    "meas = Measurement(station=station)\n",
    "meas.register_parameter(field.X)\n",
    "\n",
    "with meas.run() as datasaver:\n",
    "    for B in [0.1, 0.0]:\n",
    "        field.X(B)\n",
    "        while field.X() != B:\n",
    "            datasaver.add_result((field.X, field.X()))\n",
    "            time.sleep(0.01)\n",
    "    datasaver.flush_data_to_database()"
   ]
  },
  {
   "cell_type": "code",
   "execution_count": 14,
   "id": "short-medium",
   "metadata": {
    "execution": {
     "iopub.execute_input": "2025-08-05T07:19:21.616113Z",
     "iopub.status.busy": "2025-08-05T07:19:21.615906Z",
     "iopub.status.idle": "2025-08-05T07:19:22.321197Z",
     "shell.execute_reply": "2025-08-05T07:19:22.320567Z"
    }
   },
   "outputs": [
    {
     "data": {
      "text/plain": [
       "<Axes: >"
      ]
     },
     "execution_count": 14,
     "metadata": {},
     "output_type": "execute_result"
    },
    {
     "data": {
      "image/png": "[encoded data removed]",
      "text/plain": [
       "<Figure size 640x480 with 1 Axes>"
      ]
     },
     "metadata": {},
     "output_type": "display_data"
    }
   ],
   "source": [
    "datasaver.dataset.to_pandas_dataframe().plot()"
   ]
  },
  {
   "cell_type": "markdown",
   "id": "incomplete-vietnamese",
   "metadata": {},
   "source": [
    "When specifying multiple source parameters on a given parameter, the grouped parameter will automatically return a `namedtuple` that returns both values."
   ]
  },
  {
   "cell_type": "code",
   "execution_count": 15,
   "id": "dangerous-finder",
   "metadata": {
    "execution": {
     "iopub.execute_input": "2025-08-05T07:19:22.323206Z",
     "iopub.status.busy": "2025-08-05T07:19:22.322892Z",
     "iopub.status.idle": "2025-08-05T07:19:22.327092Z",
     "shell.execute_reply": "2025-08-05T07:19:22.326473Z"
    }
   },
   "outputs": [
    {
     "data": {
      "text/plain": [
       "combined(field=0.0, ramp_rate=10.0)"
      ]
     },
     "execution_count": 15,
     "metadata": {},
     "output_type": "execute_result"
    }
   ],
   "source": [
    "field.combined()"
   ]
  },
  {
   "cell_type": "markdown",
   "id": "consolidated-cooper",
   "metadata": {},
   "source": [
    "We can now also create a custom parameter that does a simple calculation based on the current parameters."
   ]
  },
  {
   "cell_type": "code",
   "execution_count": 16,
   "id": "designed-bloom",
   "metadata": {
    "execution": {
     "iopub.execute_input": "2025-08-05T07:19:22.328691Z",
     "iopub.status.busy": "2025-08-05T07:19:22.328524Z",
     "iopub.status.idle": "2025-08-05T07:19:22.331657Z",
     "shell.execute_reply": "2025-08-05T07:19:22.331168Z"
    }
   },
   "outputs": [],
   "source": [
    "import numpy as np\n",
    "\n",
    "\n",
    "def calculate_ramp_time(X, ramp_rate):\n",
    "    \"\"\"Calculate ramp time in seconds\"\"\"\n",
    "    dfield = np.abs(field.target_field - X)\n",
    "    return 60.0 * dfield / ramp_rate"
   ]
  },
  {
   "cell_type": "code",
   "execution_count": 17,
   "id": "disabled-logic",
   "metadata": {
    "execution": {
     "iopub.execute_input": "2025-08-05T07:19:22.333169Z",
     "iopub.status.busy": "2025-08-05T07:19:22.333011Z",
     "iopub.status.idle": "2025-08-05T07:19:22.335723Z",
     "shell.execute_reply": "2025-08-05T07:19:22.335254Z"
    },
    "scrolled": true
   },
   "outputs": [],
   "source": [
    "field._create_and_add_parameter(\n",
    "    group_name=\"ramp_time\",\n",
    "    station=station,\n",
    "    paths=[\"field_X.field\", \"field_X.ramp_rate\"],\n",
    "    formatter=calculate_ramp_time,\n",
    ")"
   ]
  },
  {
   "cell_type": "code",
   "execution_count": 18,
   "id": "adverse-february",
   "metadata": {
    "execution": {
     "iopub.execute_input": "2025-08-05T07:19:22.337208Z",
     "iopub.status.busy": "2025-08-05T07:19:22.337041Z",
     "iopub.status.idle": "2025-08-05T07:19:22.341252Z",
     "shell.execute_reply": "2025-08-05T07:19:22.340648Z"
    }
   },
   "outputs": [
    {
     "data": {
      "text/plain": [
       "np.float64(6.0)"
      ]
     },
     "execution_count": 18,
     "metadata": {},
     "output_type": "execute_result"
    }
   ],
   "source": [
    "field.ramp_rate(1.0)\n",
    "field.target_field = 0.1\n",
    "field.ramp_time()"
   ]
  },
  {
   "cell_type": "code",
   "execution_count": 19,
   "id": "statutory-xerox",
   "metadata": {
    "execution": {
     "iopub.execute_input": "2025-08-05T07:19:22.343144Z",
     "iopub.status.busy": "2025-08-05T07:19:22.342986Z",
     "iopub.status.idle": "2025-08-05T07:19:22.345816Z",
     "shell.execute_reply": "2025-08-05T07:19:22.345214Z"
    }
   },
   "outputs": [],
   "source": [
    "field.X(0.1)"
   ]
  },
  {
   "cell_type": "code",
   "execution_count": 20,
   "id": "varying-auditor",
   "metadata": {
    "execution": {
     "iopub.execute_input": "2025-08-05T07:19:22.347540Z",
     "iopub.status.busy": "2025-08-05T07:19:22.347299Z",
     "iopub.status.idle": "2025-08-05T07:19:22.351788Z",
     "shell.execute_reply": "2025-08-05T07:19:22.351167Z"
    }
   },
   "outputs": [
    {
     "data": {
      "text/plain": [
       "np.float64(5.995487689971924)"
      ]
     },
     "execution_count": 20,
     "metadata": {},
     "output_type": "execute_result"
    }
   ],
   "source": [
    "field.ramp_time()"
   ]
  },
  {
   "cell_type": "code",
   "execution_count": 21,
   "id": "chubby-nickel",
   "metadata": {
    "execution": {
     "iopub.execute_input": "2025-08-05T07:19:22.353551Z",
     "iopub.status.busy": "2025-08-05T07:19:22.353325Z",
     "iopub.status.idle": "2025-08-05T07:19:23.358169Z",
     "shell.execute_reply": "2025-08-05T07:19:23.357539Z"
    }
   },
   "outputs": [
    {
     "data": {
      "text/plain": [
       "np.float64(4.9890968799591064)"
      ]
     },
     "execution_count": 21,
     "metadata": {},
     "output_type": "execute_result"
    }
   ],
   "source": [
    "import time\n",
    "\n",
    "time.sleep(1.0)\n",
    "field.ramp_time()"
   ]
  },
  {
   "cell_type": "code",
   "execution_count": 22,
   "id": "italian-liberty",
   "metadata": {
    "execution": {
     "iopub.execute_input": "2025-08-05T07:19:23.360226Z",
     "iopub.status.busy": "2025-08-05T07:19:23.360066Z",
     "iopub.status.idle": "2025-08-05T07:19:24.364757Z",
     "shell.execute_reply": "2025-08-05T07:19:24.364101Z"
    }
   },
   "outputs": [
    {
     "data": {
      "text/plain": [
       "np.float64(3.9826452732086186)"
      ]
     },
     "execution_count": 22,
     "metadata": {},
     "output_type": "execute_result"
    }
   ],
   "source": [
    "import time\n",
    "\n",
    "time.sleep(1.0)\n",
    "field.ramp_time()"
   ]
  },
  {
   "attachments": {},
   "cell_type": "markdown",
   "id": "c1145a2d",
   "metadata": {},
   "source": [
    "## Devices with channels"
   ]
  },
  {
   "cell_type": "markdown",
   "id": "182693f8",
   "metadata": {},
   "source": [
    "The YAML file below specifies the instruments with the channels/parameters we wish to group into a new instrument, here called \"device\". The first example simply adds the channel 'as is' using self.add_submodule, while the readout parameter is added as a DelegateParameter."
   ]
  },
  {
   "cell_type": "code",
   "execution_count": 23,
   "id": "a88d5103",
   "metadata": {
    "execution": {
     "iopub.execute_input": "2025-08-05T07:19:24.366649Z",
     "iopub.status.busy": "2025-08-05T07:19:24.366437Z",
     "iopub.status.idle": "2025-08-05T07:19:24.370535Z",
     "shell.execute_reply": "2025-08-05T07:19:24.369928Z"
    }
   },
   "outputs": [
    {
     "name": "stdout",
     "output_type": "stream",
     "text": [
      "Overwriting delegate_instrument_example.yaml\n"
     ]
    }
   ],
   "source": [
    "%%writefile delegate_instrument_example.yaml\n",
    "\n",
    "instruments:\n",
    "  lockin:\n",
    "    type: qcodes.instrument_drivers.mock_instruments.MockLockin\n",
    "\n",
    "  dac:\n",
    "    type: qcodes.instrument_drivers.mock_instruments.MockDAC\n",
    "\n",
    "  device:\n",
    "    type: qcodes.instrument.delegate.DelegateInstrument\n",
    "    init:\n",
    "      parameters:\n",
    "        readout: lockin.X\n",
    "      channels:\n",
    "        gate_1: dac.ch01\n",
    "      set_initial_values_on_load: true\n",
    "      initial_values:\n",
    "        readout: 1e-5\n",
    "        gate_1.voltage.post_delay: 0.01"
   ]
  },
  {
   "cell_type": "code",
   "execution_count": 24,
   "id": "91f2a8ab",
   "metadata": {
    "execution": {
     "iopub.execute_input": "2025-08-05T07:19:24.372605Z",
     "iopub.status.busy": "2025-08-05T07:19:24.372417Z",
     "iopub.status.idle": "2025-08-05T07:19:24.382421Z",
     "shell.execute_reply": "2025-08-05T07:19:24.381756Z"
    }
   },
   "outputs": [],
   "source": [
    "station = qc.Station(config_file=\"delegate_instrument_example.yaml\")"
   ]
  },
  {
   "cell_type": "code",
   "execution_count": 25,
   "id": "45b22762",
   "metadata": {
    "execution": {
     "iopub.execute_input": "2025-08-05T07:19:24.384090Z",
     "iopub.status.busy": "2025-08-05T07:19:24.383928Z",
     "iopub.status.idle": "2025-08-05T07:19:24.411230Z",
     "shell.execute_reply": "2025-08-05T07:19:24.410596Z"
    }
   },
   "outputs": [],
   "source": [
    "lockin = station.load_lockin()\n",
    "dac = station.load_dac()\n",
    "device = station.load_device(station=station)"
   ]
  },
  {
   "cell_type": "code",
   "execution_count": 26,
   "id": "9bfa54fb",
   "metadata": {
    "execution": {
     "iopub.execute_input": "2025-08-05T07:19:24.413187Z",
     "iopub.status.busy": "2025-08-05T07:19:24.412932Z",
     "iopub.status.idle": "2025-08-05T07:19:24.416848Z",
     "shell.execute_reply": "2025-08-05T07:19:24.416197Z"
    }
   },
   "outputs": [
    {
     "name": "stdout",
     "output_type": "stream",
     "text": [
      "<MockDACChannel: dac_ch01 of MockDAC: dac>\n",
      "0.01\n"
     ]
    }
   ],
   "source": [
    "print(device.gate_1)\n",
    "print(device.gate_1.voltage.post_delay)"
   ]
  },
  {
   "cell_type": "code",
   "execution_count": 27,
   "id": "91d57fe0",
   "metadata": {
    "execution": {
     "iopub.execute_input": "2025-08-05T07:19:24.418617Z",
     "iopub.status.busy": "2025-08-05T07:19:24.418461Z",
     "iopub.status.idle": "2025-08-05T07:19:24.432635Z",
     "shell.execute_reply": "2025-08-05T07:19:24.432044Z"
    }
   },
   "outputs": [
    {
     "name": "stdout",
     "output_type": "stream",
     "text": [
      "0.0\n"
     ]
    },
    {
     "data": {
      "text/plain": [
       "-0.6"
      ]
     },
     "execution_count": 27,
     "metadata": {},
     "output_type": "execute_result"
    }
   ],
   "source": [
    "print(device.gate_1.voltage())\n",
    "device.gate_1.voltage(-0.6)\n",
    "device.gate_1.voltage()"
   ]
  },
  {
   "cell_type": "markdown",
   "id": "37e1c2c3",
   "metadata": {},
   "source": [
    "The second example adds a channel using a custom channel class, which takes the initial channel and its name as input and has a parameter current_valid_ranges."
   ]
  },
  {
   "cell_type": "code",
   "execution_count": 28,
   "id": "7e4becd1",
   "metadata": {
    "execution": {
     "iopub.execute_input": "2025-08-05T07:19:24.434595Z",
     "iopub.status.busy": "2025-08-05T07:19:24.434437Z",
     "iopub.status.idle": "2025-08-05T07:19:24.438247Z",
     "shell.execute_reply": "2025-08-05T07:19:24.437625Z"
    }
   },
   "outputs": [
    {
     "name": "stdout",
     "output_type": "stream",
     "text": [
      "Overwriting delegate_instrument_example.yaml\n"
     ]
    }
   ],
   "source": [
    "%%writefile delegate_instrument_example.yaml\n",
    "\n",
    "instruments:\n",
    "  lockin:\n",
    "    type: qcodes.instrument_drivers.mock_instruments.MockLockin\n",
    "\n",
    "  dac:\n",
    "    type: qcodes.instrument_drivers.mock_instruments.MockDAC\n",
    "\n",
    "  device:\n",
    "    type: qcodes.instrument.delegate.DelegateInstrument\n",
    "    init:\n",
    "      parameters:\n",
    "        readout: lockin.X\n",
    "      channels:\n",
    "        type: qcodes.instrument_drivers.mock_instruments.MockCustomChannel\n",
    "        gate_1:\n",
    "          channel: dac.ch01\n",
    "          current_valid_range: [-0.5, 0]\n",
    "      set_initial_values_on_load: true\n",
    "      initial_values:\n",
    "        readout: 1e-5"
   ]
  },
  {
   "cell_type": "code",
   "execution_count": 29,
   "id": "2e3ca8d5",
   "metadata": {
    "execution": {
     "iopub.execute_input": "2025-08-05T07:19:24.439987Z",
     "iopub.status.busy": "2025-08-05T07:19:24.439688Z",
     "iopub.status.idle": "2025-08-05T07:19:24.443065Z",
     "shell.execute_reply": "2025-08-05T07:19:24.442427Z"
    }
   },
   "outputs": [],
   "source": [
    "lockin.close()\n",
    "dac.close()"
   ]
  },
  {
   "cell_type": "code",
   "execution_count": 30,
   "id": "2f2d2b2b",
   "metadata": {
    "execution": {
     "iopub.execute_input": "2025-08-05T07:19:24.444952Z",
     "iopub.status.busy": "2025-08-05T07:19:24.444673Z",
     "iopub.status.idle": "2025-08-05T07:19:24.477722Z",
     "shell.execute_reply": "2025-08-05T07:19:24.477086Z"
    }
   },
   "outputs": [],
   "source": [
    "station = qc.Station(config_file=\"delegate_instrument_example.yaml\")\n",
    "lockin = station.load_lockin()\n",
    "dac = station.load_dac()"
   ]
  },
  {
   "cell_type": "code",
   "execution_count": 31,
   "id": "9cb653b0",
   "metadata": {
    "execution": {
     "iopub.execute_input": "2025-08-05T07:19:24.479479Z",
     "iopub.status.busy": "2025-08-05T07:19:24.479319Z",
     "iopub.status.idle": "2025-08-05T07:19:24.490483Z",
     "shell.execute_reply": "2025-08-05T07:19:24.489940Z"
    }
   },
   "outputs": [],
   "source": [
    "device = station.load_device(station=station)"
   ]
  },
  {
   "cell_type": "code",
   "execution_count": 32,
   "id": "433d9646",
   "metadata": {
    "execution": {
     "iopub.execute_input": "2025-08-05T07:19:24.492166Z",
     "iopub.status.busy": "2025-08-05T07:19:24.492008Z",
     "iopub.status.idle": "2025-08-05T07:19:24.496248Z",
     "shell.execute_reply": "2025-08-05T07:19:24.495572Z"
    }
   },
   "outputs": [
    {
     "data": {
      "text/plain": [
       "<MockCustomChannel: dac_gate_1 of MockDAC: dac>"
      ]
     },
     "execution_count": 32,
     "metadata": {},
     "output_type": "execute_result"
    }
   ],
   "source": [
    "device.gate_1"
   ]
  },
  {
   "cell_type": "code",
   "execution_count": 33,
   "id": "3d2b8faa",
   "metadata": {
    "execution": {
     "iopub.execute_input": "2025-08-05T07:19:24.498080Z",
     "iopub.status.busy": "2025-08-05T07:19:24.497847Z",
     "iopub.status.idle": "2025-08-05T07:19:24.500923Z",
     "shell.execute_reply": "2025-08-05T07:19:24.500290Z"
    }
   },
   "outputs": [],
   "source": [
    "device.gate_1.voltage(-0.3)"
   ]
  },
  {
   "cell_type": "code",
   "execution_count": 34,
   "id": "49def342",
   "metadata": {
    "execution": {
     "iopub.execute_input": "2025-08-05T07:19:24.502828Z",
     "iopub.status.busy": "2025-08-05T07:19:24.502636Z",
     "iopub.status.idle": "2025-08-05T07:19:24.506472Z",
     "shell.execute_reply": "2025-08-05T07:19:24.505878Z"
    }
   },
   "outputs": [
    {
     "data": {
      "text/plain": [
       "-0.3"
      ]
     },
     "execution_count": 34,
     "metadata": {},
     "output_type": "execute_result"
    }
   ],
   "source": [
    "device.gate_1.voltage()"
   ]
  },
  {
   "cell_type": "markdown",
   "id": "7b122128",
   "metadata": {},
   "source": [
    "The MockCustomChannel has a parameter `current_valid_range`."
   ]
  },
  {
   "cell_type": "code",
   "execution_count": 35,
   "id": "d32a06fd",
   "metadata": {
    "execution": {
     "iopub.execute_input": "2025-08-05T07:19:24.508185Z",
     "iopub.status.busy": "2025-08-05T07:19:24.508022Z",
     "iopub.status.idle": "2025-08-05T07:19:24.511865Z",
     "shell.execute_reply": "2025-08-05T07:19:24.511283Z"
    }
   },
   "outputs": [
    {
     "data": {
      "text/plain": [
       "[-0.5, 0]"
      ]
     },
     "execution_count": 35,
     "metadata": {},
     "output_type": "execute_result"
    }
   ],
   "source": [
    "device.gate_1.current_valid_range()"
   ]
  }
 ],
 "metadata": {
  "kernelspec": {
   "display_name": ".venv",
   "language": "python",
   "name": "python3"
  },
  "language_info": {
   "codemirror_mode": {
    "name": "ipython",
    "version": 3
   },
   "file_extension": ".py",
   "mimetype": "text/x-python",
   "name": "python",
   "nbconvert_exporter": "python",
   "pygments_lexer": "ipython3",
   "version": "3.11.13"
  }
 },
 "nbformat": 4,
 "nbformat_minor": 5
}
